{
 "cells": [
  {
   "cell_type": "markdown",
   "id": "759fbef0",
   "metadata": {},
   "source": [
    "## Problem $-1$\n",
    "[Link to Problem](https://projecteuler.net/problem=-1)\n",
    "\n",
    "### Problem Description\n",
    "\n",
    "If we list all the natural numbers below $10$ that are multiples of $3$ or $5$, we get $3, 5, 6$ and $9$. The sum of these multiples is $23$.\n",
    "\n",
    "Find the sum of all the multiples of $3$ or $5$ below infinity."
   ]
  },
  {
   "cell_type": "markdown",
   "id": "b7858176",
   "metadata": {},
   "source": [
    "### Approach\n",
    "\n",
    "After unsucessfully trying answers like $0$, $1$, $-1$ or infinity, i decided to think about what could be the trick to solving this problem.\n",
    "\n",
    "Then i remembered about **Ramanujan summation**:\n",
    "\n",
    "$$\n",
    "\n",
    "1 + 2 + 3 + ... = -\\frac{1}{12}\n",
    "\n",
    "$$\n",
    "\n",
    "Let's denote this sum as $S$. Then:\n",
    "\n",
    "1. The sum of multiples of 3 is: $ 3 + 6 + 9 + ... = 3S $\n",
    "2. The sum of multiples of 5 is: $ 5 + 10 + 15 + ... = 5S $\n",
    "3. The sum of multiples of 15 is: $ 15 + 30 + 45 + ... = 15S $\n",
    "\n",
    "And thus the sum we're looking for is $3S + 5S - 15S = -7S$. Now we substitute $S$ for $-\\frac{1}{12}$ and we get the answer $\\frac{7}{12}$, which turns out to be correct.\n",
    "\n",
    "Result: **7/12**"
   ]
  },
  {
   "cell_type": "markdown",
   "id": "46190a8f",
   "metadata": {},
   "source": [
    "##### Tags: #bonus, #tricky-problem"
   ]
  }
 ],
 "metadata": {
  "kernelspec": {
   "display_name": "Python 3",
   "language": "python",
   "name": "python3"
  },
  "language_info": {
   "codemirror_mode": {
    "name": "ipython",
    "version": 3
   },
   "file_extension": ".py",
   "mimetype": "text/x-python",
   "name": "python",
   "nbconvert_exporter": "python",
   "pygments_lexer": "ipython3",
   "version": "3.13.1"
  }
 },
 "nbformat": 4,
 "nbformat_minor": 5
}
