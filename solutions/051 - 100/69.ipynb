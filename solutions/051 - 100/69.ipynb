{
 "cells": [
  {
   "cell_type": "markdown",
   "id": "759fbef0",
   "metadata": {},
   "source": [
    "## Problem #69: Totient Maximum\n",
    "[Link to Problem](https://projecteuler.net/problem=69)\n",
    "\n",
    "### Problem Description\n",
    "\n",
    "Euler's totient function, $\\phi(n)$ [sometimes called the phi function], is defined as the number of positive integers not exceeding $n$ which are relatively prime to $n$. For example, as $1$, $2$, $4$, $5$, $7$, and $8$, are all less than or equal to nine and relatively prime to nine, $\\phi(9)=6$.\n",
    "\n",
    "| $n$ | **Relatively Prime** | $\\phi(n)$ | $n / \\phi(n)$ |\n",
    "|---|---|---|---|\n",
    "| 2 | 1 | 1 | 2 |\n",
    "| 3 | 1, 2 | 2 | 1.5 |\n",
    "| 4 | 1, 3 | 2 | 2 |\n",
    "| 5 | 1, 2, 3, 4 | 4 | 1.25 |\n",
    "| 6 | 1, 5 | 2 | 3 |\n",
    "| 7 | 1, 2, 3, 4, 5, 6 | 6 | 1.1666... |\n",
    "| 8 | 1, 3, 5, 7 | 4 | 2 |\n",
    "| 9 | 1, 2, 4, 5, 7, 8 | 6 | 1.5 |\n",
    "| 10 | 1, 3, 7, 9 | 4 | 2.5 |\n",
    "\n",
    "\n",
    "It can be seen that $n = 6$ produces a maximum $n/\\phi(n)$ for $n\\leq 10$.\n",
    "\n",
    "Find the value of $n\\leq 1\\,000\\,000$ for which $n/\\phi(n)$ is a maximum."
   ]
  },
  {
   "cell_type": "markdown",
   "id": "b7858176",
   "metadata": {},
   "source": [
    "### Approach\n",
    "\n",
    "Precompute the Euler totient for numbers up to $10^6$ and search for the value $n$ that produces the maxium $n / \\phi(n).$"
   ]
  },
  {
   "cell_type": "code",
   "execution_count": 2,
   "id": "b8970b4b",
   "metadata": {},
   "outputs": [
    {
     "name": "stdout",
     "output_type": "stream",
     "text": [
      "510510\n"
     ]
    }
   ],
   "source": [
    "limit = 10 ** 6 + 1\n",
    "\n",
    "phi = [i for i in range(limit)]\n",
    "\n",
    "for i in range(2, limit):\n",
    "    if phi[i] == i:\n",
    "        for j in range(i, limit, i):\n",
    "            phi[j] -= phi[j] / i\n",
    "\n",
    "n = 2\n",
    "\n",
    "for i in range(3, limit):\n",
    "    if i / phi[i] > n / phi[n]:\n",
    "        n = i\n",
    "\n",
    "print(n)"
   ]
  },
  {
   "cell_type": "markdown",
   "id": "4ea0f447",
   "metadata": {},
   "source": [
    "###### Result: x | Execution time: s"
   ]
  },
  {
   "cell_type": "markdown",
   "id": "97cfc915",
   "metadata": {},
   "source": [
    "### Complexity analysis"
   ]
  },
  {
   "cell_type": "markdown",
   "id": "46190a8f",
   "metadata": {},
   "source": [
    "##### Tags: #factorials"
   ]
  }
 ],
 "metadata": {
  "kernelspec": {
   "display_name": "Python 3",
   "language": "python",
   "name": "python3"
  },
  "language_info": {
   "codemirror_mode": {
    "name": "ipython",
    "version": 3
   },
   "file_extension": ".py",
   "mimetype": "text/x-python",
   "name": "python",
   "nbconvert_exporter": "python",
   "pygments_lexer": "ipython3",
   "version": "3.13.1"
  }
 },
 "nbformat": 4,
 "nbformat_minor": 5
}
