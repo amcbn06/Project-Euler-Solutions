{
 "cells": [
  {
   "cell_type": "markdown",
   "id": "759fbef0",
   "metadata": {},
   "source": [
    "## Problem #63: Powerful Digit Counts\n",
    "[Link to Problem](https://projecteuler.net/problem=63)\n",
    "\n",
    "### Problem Description\n",
    "\n",
    "The $5$-digit number, $16807=7^5$, is also a fifth power. Similarly, the $9$-digit number, $134217728=8^9$, is a ninth power.\n",
    "\n",
    "How many $n$-digit positive integers exist which are also an $n^{th}$ power?"
   ]
  },
  {
   "cell_type": "markdown",
   "id": "b7858176",
   "metadata": {},
   "source": [
    "### Approach\n",
    "\n",
    "1. $n$-digit positive integers: $10^{n-1} \\leq x \\lt 10^n$\n",
    "2. $n^{th}$ power: $x = a^n$\n",
    "\n",
    "$$\n",
    "\n",
    "10^{n-1} \\leq a^n \\lt 10^n \\\\[5pt]\n",
    "10^n * \\frac{1}{10} \\leq a^n \\lt 10^n \\\\[5pt]\n",
    "10 * \\sqrt[n]{0.1} \\leq a \\lt 10\n",
    "\n",
    "$$\n",
    "\n",
    "For a fixed $n$, the number of possible values for $a$ is $10 - \\lceil 10 * \\sqrt[n]{0.1} \\rceil$. We can just iterate until the number of values becomes $0$."
   ]
  },
  {
   "cell_type": "code",
   "execution_count": 1,
   "id": "b8970b4b",
   "metadata": {},
   "outputs": [
    {
     "name": "stdout",
     "output_type": "stream",
     "text": [
      "49\n"
     ]
    }
   ],
   "source": [
    "n = 1\n",
    "\n",
    "count = 0\n",
    "\n",
    "while 10 - 10 * (0.1 ** (1 / n)) >= 1:\n",
    "    count += int(10 - 10 * (0.1 ** (1 / n)))\n",
    "    n += 1\n",
    "\n",
    "print(count)"
   ]
  },
  {
   "cell_type": "markdown",
   "id": "4ea0f447",
   "metadata": {},
   "source": [
    "###### Result: **49** | Execution time: 0s"
   ]
  },
  {
   "cell_type": "markdown",
   "id": "97cfc915",
   "metadata": {},
   "source": [
    "### Complexity analysis"
   ]
  },
  {
   "cell_type": "markdown",
   "id": "46190a8f",
   "metadata": {},
   "source": [
    "##### Tags: #math, #powers, #bruteforce"
   ]
  }
 ],
 "metadata": {
  "kernelspec": {
   "display_name": "Python 3",
   "language": "python",
   "name": "python3"
  },
  "language_info": {
   "codemirror_mode": {
    "name": "ipython",
    "version": 3
   },
   "file_extension": ".py",
   "mimetype": "text/x-python",
   "name": "python",
   "nbconvert_exporter": "python",
   "pygments_lexer": "ipython3",
   "version": "3.13.1"
  }
 },
 "nbformat": 4,
 "nbformat_minor": 5
}
