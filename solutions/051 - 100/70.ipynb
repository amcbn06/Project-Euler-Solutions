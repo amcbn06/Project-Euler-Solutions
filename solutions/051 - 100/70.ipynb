{
 "cells": [
  {
   "cell_type": "markdown",
   "id": "759fbef0",
   "metadata": {},
   "source": [
    "## Problem #70: Totient Permutation\n",
    "[Link to Problem](https://projecteuler.net/problem=70)\n",
    "\n",
    "### Problem Description\n",
    "\n",
    "Euler's totient function, $\\phi(n)$ [sometimes called the phi function], is used to determine the number of positive numbers less than or equal to $n$ which are relatively prime to $n$. For example, as $1, 2, 4, 5, 7$, and $8$, are all less than nine and relatively prime to nine, $\\phi(9)=6$.<br>The number $1$ is considered to be relatively prime to every positive number, so $\\phi(1)=1$.\n",
    "\n",
    "Interestingly, $\\phi(87109)=79180$, and it can be seen that $87109$ is a permutation of $79180$.\n",
    "\n",
    "Find the value of $n$, $1 \\lt n \\lt 10^7$, for which $\\phi(n)$ is a permutation of $n$ and the ratio $n/\\phi(n)$ produces a minimum."
   ]
  },
  {
   "cell_type": "markdown",
   "id": "b7858176",
   "metadata": {},
   "source": [
    "### Approach\n",
    "\n",
    "Same as in [Problem 69](69.ipynb)."
   ]
  },
  {
   "cell_type": "code",
   "execution_count": 9,
   "id": "b8970b4b",
   "metadata": {},
   "outputs": [
    {
     "name": "stdout",
     "output_type": "stream",
     "text": [
      "n = 8319823, phi(n) = 8313928\n"
     ]
    }
   ],
   "source": [
    "limit = 10 ** 7\n",
    "\n",
    "phi = [i for i in range(limit)]\n",
    "\n",
    "for i in range(2, limit):\n",
    "    if phi[i] == i:\n",
    "        for j in range(i, limit, i):\n",
    "            phi[j] -= phi[j] // i\n",
    "\n",
    "n = 87109\n",
    "\n",
    "for i in range(2, limit):\n",
    "    if sorted(str(i)) != sorted(str(phi[i])):\n",
    "        continue\n",
    "    if i / phi[i] < n / phi[n]:\n",
    "        n = i\n",
    "\n",
    "print(f\"n = {n}, phi(n) = {phi[n]}\")"
   ]
  },
  {
   "cell_type": "markdown",
   "id": "4ea0f447",
   "metadata": {},
   "source": [
    "###### Result: **8319823** | Execution time: ~32s"
   ]
  },
  {
   "cell_type": "markdown",
   "id": "97cfc915",
   "metadata": {},
   "source": [
    "### Complexity analysis\n",
    "\n",
    "Time complexity: $O(L \\log\\log L)$"
   ]
  },
  {
   "cell_type": "markdown",
   "id": "46190a8f",
   "metadata": {},
   "source": [
    "##### Tags: #euler-totient, #sieve, #math"
   ]
  }
 ],
 "metadata": {
  "kernelspec": {
   "display_name": "Python 3",
   "language": "python",
   "name": "python3"
  },
  "language_info": {
   "codemirror_mode": {
    "name": "ipython",
    "version": 3
   },
   "file_extension": ".py",
   "mimetype": "text/x-python",
   "name": "python",
   "nbconvert_exporter": "python",
   "pygments_lexer": "ipython3",
   "version": "3.13.1"
  }
 },
 "nbformat": 4,
 "nbformat_minor": 5
}
