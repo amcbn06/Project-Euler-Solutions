{
 "cells": [
  {
   "cell_type": "markdown",
   "id": "759fbef0",
   "metadata": {},
   "source": [
    "## Problem #59: XOR Decryption\n",
    "[Link to Problem](https://projecteuler.net/problem=59)\n",
    "\n",
    "### Problem Description\n",
    "\n",
    "Each character on a computer is assigned a unique code and the preferred standard is ASCII (American Standard Code for Information Interchange). For example, uppercase A = 65, asterisk (*) = 42, and lowercase k = 107.\n",
    "\n",
    "A modern encryption method is to take a text file, convert the bytes to ASCII, then XOR each byte with a given value, taken from a secret key. The advantage with the XOR function is that using the same encryption key on the cipher text, restores the plain text; for example, 65 XOR 42 = 107, then 107 XOR 42 = 65.\n",
    "\n",
    "For unbreakable encryption, the key is the same length as the plain text message, and the key is made up of random bytes. The user would keep the encrypted message and the encryption key in different locations, and without both \"halves\", it is impossible to decrypt the message.\n",
    "\n",
    "Unfortunately, this method is impractical for most users, so the modified method is to use a password as a key. If the password is shorter than the message, which is likely, the key is repeated cyclically throughout the message. The balance for this method is using a sufficiently long password key for security, but short enough to be memorable.\n",
    "\n",
    "Your task has been made easy, as the encryption key consists of three lower case characters. Using [0059_cipher.txt](0059_cipher.txt), a file containing the encrypted ASCII codes, and the knowledge that the plain text must contain common English words, decrypt the message and find the sum of the ASCII values in the original text."
   ]
  },
  {
   "cell_type": "markdown",
   "id": "b7858176",
   "metadata": {},
   "source": [
    "### Approach\n",
    "\n",
    "Try out all possible 3-letter combinations. Filter only those that when used to decrypt produce text that only contains alphanumeric characters and spaces. Thus we find out that the key is **`exp`**"
   ]
  },
  {
   "cell_type": "code",
   "execution_count": 16,
   "id": "b8970b4b",
   "metadata": {},
   "outputs": [
    {
     "name": "stdout",
     "output_type": "stream",
     "text": [
      "exp An extract taken from the introduction of one of E\n",
      "rxp Vn rxteacc tvkey feom7thr iytrxduttixn xf xne7of7E\n",
      "sxp Wn sxtdacb twkex fdom6ths ixtryduutiyn yf yne6of6E\n",
      "129448\n"
     ]
    }
   ],
   "source": [
    "sigma = 26\n",
    "length = 3\n",
    "\n",
    "encrypted = list(map(int, open('0059_cipher.txt', 'r').read().split(',')))\n",
    "\n",
    "for i in range(sigma ** length):\n",
    "    password = \"\"\n",
    "    for j in range(length):\n",
    "        password += chr(ord('a') + i % sigma)\n",
    "        i //= sigma\n",
    "    password = password[::-1]\n",
    "    # Consider only the first 50 characters in order to make the program faster\n",
    "    decrypted = ''.join([chr(value ^ ord(password[index % 3])) for index, value in enumerate(encrypted[:50])])\n",
    "    if all([ch.isalnum() or ch == ' '  for ch in decrypted]):\n",
    "        print(password, decrypted)\n",
    "\n",
    "key = \"exp\"\n",
    "decrypted = ''.join([chr(value ^ ord(key[index % 3])) for index, value in enumerate(encrypted)])\n",
    "print(sum([ord(ch) for ch in decrypted]))"
   ]
  },
  {
   "cell_type": "markdown",
   "id": "4ea0f447",
   "metadata": {},
   "source": [
    "###### Result: **129448** | Execution time: <1s"
   ]
  },
  {
   "cell_type": "markdown",
   "id": "46190a8f",
   "metadata": {},
   "source": [
    "##### Tags: #cryptography"
   ]
  }
 ],
 "metadata": {
  "kernelspec": {
   "display_name": "Python 3",
   "language": "python",
   "name": "python3"
  },
  "language_info": {
   "codemirror_mode": {
    "name": "ipython",
    "version": 3
   },
   "file_extension": ".py",
   "mimetype": "text/x-python",
   "name": "python",
   "nbconvert_exporter": "python",
   "pygments_lexer": "ipython3",
   "version": "3.13.1"
  }
 },
 "nbformat": 4,
 "nbformat_minor": 5
}
