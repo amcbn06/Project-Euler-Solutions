{
 "cells": [
  {
   "cell_type": "markdown",
   "id": "759fbef0",
   "metadata": {},
   "source": [
    "## Problem #62: Cubic Permutations\n",
    "[Link to Problem](https://projecteuler.net/problem=62)\n",
    "\n",
    "### Problem Description\n",
    "\n",
    "The cube, $41063625$ ($345^3$), can be permuted to produce two other cubes: $56623104$ ($384^3$) and $66430125$ ($405^3$). In fact, $41063625$ is the smallest cube which has exactly three permutations of its digits which are also cube.\n",
    "\n",
    "Find the smallest cube for which exactly five permutations of its digits are cube."
   ]
  },
  {
   "cell_type": "markdown",
   "id": "b7858176",
   "metadata": {},
   "source": [
    "### Approach\n",
    "\n",
    "- idea 1\n",
    "- idea 2"
   ]
  },
  {
   "cell_type": "code",
   "execution_count": 10,
   "id": "b8970b4b",
   "metadata": {},
   "outputs": [
    {
     "name": "stdout",
     "output_type": "stream",
     "text": [
      "Found: 127035954683\n",
      "Found: 140283769536\n",
      "Answer: 127035954683\n"
     ]
    }
   ],
   "source": [
    "limit = 1_000_000_000_000\n",
    "\n",
    "frq = {}\n",
    "smallest = {}\n",
    "\n",
    "for i in range(1, int(limit ** (1 / 3)) + 1):\n",
    "    s = ''.join(sorted(str(i * i * i)))\n",
    "    if s not in frq:\n",
    "        frq[s] = 0\n",
    "        smallest[s] = limit\n",
    "    frq[s] += 1\n",
    "    smallest[s] = min(smallest[s], i * i * i)\n",
    "\n",
    "answer = limit\n",
    "\n",
    "for key, value in frq.items():\n",
    "    if value == 5:\n",
    "        print(f\"Found: {smallest[key]}\")\n",
    "        answer = min(answer, smallest[key])\n",
    "\n",
    "print(f\"Answer: {answer}\")"
   ]
  },
  {
   "cell_type": "markdown",
   "id": "4ea0f447",
   "metadata": {},
   "source": [
    "###### Result: **127035954683** | Execution time: 0s"
   ]
  },
  {
   "cell_type": "markdown",
   "id": "46190a8f",
   "metadata": {},
   "source": [
    "##### Tags: #implementation, #bruteforce"
   ]
  }
 ],
 "metadata": {
  "kernelspec": {
   "display_name": "Python 3",
   "language": "python",
   "name": "python3"
  },
  "language_info": {
   "codemirror_mode": {
    "name": "ipython",
    "version": 3
   },
   "file_extension": ".py",
   "mimetype": "text/x-python",
   "name": "python",
   "nbconvert_exporter": "python",
   "pygments_lexer": "ipython3",
   "version": "3.13.1"
  }
 },
 "nbformat": 4,
 "nbformat_minor": 5
}
