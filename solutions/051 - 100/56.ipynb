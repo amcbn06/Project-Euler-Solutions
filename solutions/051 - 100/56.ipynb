{
 "cells": [
  {
   "cell_type": "markdown",
   "id": "759fbef0",
   "metadata": {},
   "source": [
    "## Problem #56: Powerful Digit Sum\n",
    "[Link to Problem](https://projecteuler.net/problem=56)\n",
    "\n",
    "### Problem Description\n",
    "\n",
    "A googol ($10^{100}$) is a massive number: one followed by one-hundred zeros; $100^{100}$ is almost unimaginably large: one followed by two-hundred zeros. Despite their size, the sum of the digits in each number is only $1$.\n",
    "\n",
    "Considering natural numbers of the form, $a^b$, where $a, b \\lt 100$, what is the maximum digital sum?"
   ]
  },
  {
   "cell_type": "markdown",
   "id": "b7858176",
   "metadata": {},
   "source": [
    "### Approach\n",
    "\n",
    "Just implementation."
   ]
  },
  {
   "cell_type": "code",
   "execution_count": 6,
   "id": "b8970b4b",
   "metadata": {},
   "outputs": [
    {
     "name": "stdout",
     "output_type": "stream",
     "text": [
      "972\n"
     ]
    }
   ],
   "source": [
    "limit = 100\n",
    "\n",
    "answer = 0\n",
    "\n",
    "for a in range(limit):\n",
    "    for b in range(limit):\n",
    "        answer = max(answer, sum(map(int, list(str(a ** b)))))\n",
    "\n",
    "print(answer)"
   ]
  },
  {
   "cell_type": "markdown",
   "id": "4ea0f447",
   "metadata": {},
   "source": [
    "###### Result: **972** | Execution time: <1s"
   ]
  },
  {
   "cell_type": "markdown",
   "id": "46190a8f",
   "metadata": {},
   "source": [
    "##### Tags: #implementation"
   ]
  }
 ],
 "metadata": {
  "kernelspec": {
   "display_name": "Python 3",
   "language": "python",
   "name": "python3"
  },
  "language_info": {
   "codemirror_mode": {
    "name": "ipython",
    "version": 3
   },
   "file_extension": ".py",
   "mimetype": "text/x-python",
   "name": "python",
   "nbconvert_exporter": "python",
   "pygments_lexer": "ipython3",
   "version": "3.13.1"
  }
 },
 "nbformat": 4,
 "nbformat_minor": 5
}
