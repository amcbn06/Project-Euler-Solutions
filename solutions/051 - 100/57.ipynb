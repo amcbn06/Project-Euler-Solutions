{
 "cells": [
  {
   "cell_type": "markdown",
   "id": "759fbef0",
   "metadata": {},
   "source": [
    "## Problem #57: Square Root Convergents\n",
    "[Link to Problem](https://projecteuler.net/problem=57)\n",
    "\n",
    "### Problem Description\n",
    "\n",
    "It is possible to show that the square root of two can be expressed as an infinite continued fraction.\n",
    "\n",
    "$$\n",
    "\n",
    "\\sqrt 2 =1+ \\frac 1 {2+ \\frac 1 {2 +\\frac 1 {2+ \\dots}}}\n",
    "\n",
    "$$\n",
    "\n",
    "By expanding this for the first four iterations, we get:\n",
    "\n",
    "$1 + \\frac 1 2 = \\frac  32 = 1.5$\n",
    "\n",
    "$1 + \\frac 1 {2 + \\frac 1 2} = \\frac 7 5 = 1.4$<br>\n",
    "\n",
    "$1 + \\frac 1 {2 + \\frac 1 {2+\\frac 1 2}} = \\frac {17}{12} = 1.41666 \\dots$<br>\n",
    "\n",
    "$1 + \\frac 1 {2 + \\frac 1 {2+\\frac 1 {2+\\frac 1 2}}} = \\frac {41}{29} = 1.41379 \\dots$<br></p>\n",
    "\n",
    "The next three expansions are $\\frac {99}{70}$, $\\frac {239}{169}$, and $\\frac {577}{408}$, but the eighth expansion, $\\frac {1393}{985}$, is the first example where the number of digits in the numerator exceeds the number of digits in the denominator.\n",
    "\n",
    "In the first one-thousand expansions, how many fractions contain a numerator with more digits than the denominator?"
   ]
  },
  {
   "cell_type": "markdown",
   "id": "b7858176",
   "metadata": {},
   "source": [
    "### Approach\n",
    "\n",
    "We can observe that if in the current iteration the fraction is expressed as $\\frac{a}{b}$, in the next iteration it will be $\\frac{a + 2b}{a + b}$. From here on we just implement."
   ]
  },
  {
   "cell_type": "code",
   "execution_count": 4,
   "id": "b8970b4b",
   "metadata": {},
   "outputs": [
    {
     "name": "stdout",
     "output_type": "stream",
     "text": [
      "153\n"
     ]
    }
   ],
   "source": [
    "limit = 1000\n",
    "\n",
    "a, b = 1, 1\n",
    "\n",
    "count = 0\n",
    "\n",
    "for i in range(limit):\n",
    "    a, b = a + 2 * b, a + b\n",
    "    if len(str(a)) > len(str(b)):\n",
    "        count += 1\n",
    "\n",
    "print(count)"
   ]
  },
  {
   "cell_type": "markdown",
   "id": "4ea0f447",
   "metadata": {},
   "source": [
    "###### Result: **153** | Execution time: 0s"
   ]
  },
  {
   "cell_type": "markdown",
   "id": "46190a8f",
   "metadata": {},
   "source": [
    "##### Tags: #implementation"
   ]
  }
 ],
 "metadata": {
  "kernelspec": {
   "display_name": "Python 3",
   "language": "python",
   "name": "python3"
  },
  "language_info": {
   "codemirror_mode": {
    "name": "ipython",
    "version": 3
   },
   "file_extension": ".py",
   "mimetype": "text/x-python",
   "name": "python",
   "nbconvert_exporter": "python",
   "pygments_lexer": "ipython3",
   "version": "3.13.1"
  }
 },
 "nbformat": 4,
 "nbformat_minor": 5
}
