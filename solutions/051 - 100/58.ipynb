{
 "cells": [
  {
   "cell_type": "markdown",
   "id": "759fbef0",
   "metadata": {},
   "source": [
    "## Problem #58: Spiral Primes\n",
    "[Link to Problem](https://projecteuler.net/problem=58)\n",
    "\n",
    "### Problem Description\n",
    "\n",
    "Starting with $1$ and spiralling anticlockwise in the following way, a square spiral with side length $7$ is formed.\n",
    "\n",
    "$$\n",
    "\n",
    "\\begin{array}{ccccccc}\n",
    "\\bold{37} & 36 & 35 & 34 & 33 & 32 & \\bold{31} \\\\\n",
    "38 & \\bold{17} & 16 & 15 & 14 & \\bold{13} & 30 \\\\\n",
    "39 & 18 &  \\bold{5} &  4 &  \\bold{3} & 12 & 29 \\\\\n",
    "40 & 19 &  6 &  1 &  2 & 11 & 28 \\\\\n",
    "41 & 20 &  \\bold{7} &  8 &  9 & 10 & 27 \\\\\n",
    "42 & 21 & 22 & 23 & 24 & 25 & 26 \\\\\n",
    "\\bold{43} & 44 & 45 & 46 & 47 & 48 & 49 \\\\\n",
    "\\end{array}\n",
    "\n",
    "$$\n",
    "\n",
    "It is interesting to note that the odd squares lie along the bottom right diagonal, but what is more interesting is that $8$ out of the $13$ numbers lying along both diagonals are prime; that is, a ratio of $8/13 \\approx 62\\%$.\n",
    "\n",
    "If one complete new layer is wrapped around the spiral above, a square spiral with side length $9$ will be formed. If this process is continued, what is the side length of the square spiral for which the ratio of primes along both diagonals first falls below $10\\%$?"
   ]
  },
  {
   "cell_type": "markdown",
   "id": "b7858176",
   "metadata": {},
   "source": [
    "### Approach\n",
    "\n",
    "Just implementation."
   ]
  },
  {
   "cell_type": "code",
   "execution_count": 5,
   "id": "b8970b4b",
   "metadata": {},
   "outputs": [
    {
     "name": "stdout",
     "output_type": "stream",
     "text": [
      "Sise length: 26241\n"
     ]
    }
   ],
   "source": [
    "def is_prime(x):\n",
    "    if x < 2:\n",
    "        return False\n",
    "    for d in range(2, int(x ** 0.5) + 1):\n",
    "        if x % d == 0:\n",
    "            return False\n",
    "    return True\n",
    "\n",
    "n = 4\n",
    "count = 8\n",
    "\n",
    "while count / (4 * (n - 1) + 1) >= 0.1:\n",
    "    n += 1\n",
    "    count += is_prime(4 * n * n - 10 * n + 7)\n",
    "    count += is_prime(4 * n * n - 8 * n + 5)\n",
    "    count += is_prime(4 * n * n - 6 * n + 3)\n",
    "    count += is_prime(4 * n * n - 4 * n + 1)\n",
    "\n",
    "print(f\"Sise length: {2 * n - 1}\")"
   ]
  },
  {
   "cell_type": "markdown",
   "id": "4ea0f447",
   "metadata": {},
   "source": [
    "###### Result: **26241** | Execution time: ~7s"
   ]
  },
  {
   "cell_type": "markdown",
   "id": "46190a8f",
   "metadata": {},
   "source": [
    "##### Tags: #implementation, #bruteforce, #primes"
   ]
  }
 ],
 "metadata": {
  "kernelspec": {
   "display_name": "Python 3",
   "language": "python",
   "name": "python3"
  },
  "language_info": {
   "codemirror_mode": {
    "name": "ipython",
    "version": 3
   },
   "file_extension": ".py",
   "mimetype": "text/x-python",
   "name": "python",
   "nbconvert_exporter": "python",
   "pygments_lexer": "ipython3",
   "version": "3.13.1"
  }
 },
 "nbformat": 4,
 "nbformat_minor": 5
}
