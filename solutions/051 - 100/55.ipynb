{
 "cells": [
  {
   "cell_type": "markdown",
   "id": "759fbef0",
   "metadata": {},
   "source": [
    "## Problem #55: Lychrel Numbers\n",
    "[Link to Problem](https://projecteuler.net/problem=55)\n",
    "\n",
    "### Problem Description\n",
    "\n",
    "If we take $47$, reverse and add, $47 + 74 = 121$, which is palindromic.\n",
    "\n",
    "Not all numbers produce palindromes so quickly. For example,\n",
    "\n",
    "$$\n",
    "\n",
    "\\begin{align}\n",
    "349 + 943 = 1292\\\\\n",
    "1292 + 2921 = 4213\\\\\n",
    "4213 + 3124 = 7337\n",
    "\\end{align}\n",
    "\n",
    "$$\n",
    "\n",
    "That is, $349$ took three iterations to arrive at a palindrome.\n",
    "\n",
    "Although no one has proved it yet, it is thought that some numbers, like $196$, never produce a palindrome. A number that never forms a palindrome through the reverse and add process is called a Lychrel number. Due to the theoretical nature of these numbers, and for the purpose of this problem, we shall assume that a number is Lychrel until proven otherwise. In addition you are given that for every number below ten-thousand, it will either (i) become a palindrome in less than fifty iterations, or, (ii) no one, with all the computing power that exists, has managed so far to map it to a palindrome. In fact, $10677$ is the first number to be shown to require over fifty iterations before producing a palindrome: $4668731596684224866951378664$ ($53$ iterations, $28$-digits).\n",
    "\n",
    "Surprisingly, there are palindromic numbers that are themselves Lychrel numbers; the first example is $4994$.\n",
    "\n",
    "How many Lychrel numbers are there below ten-thousand?"
   ]
  },
  {
   "cell_type": "markdown",
   "id": "b7858176",
   "metadata": {},
   "source": [
    "### Approach\n",
    "\n",
    "Pretty straightforward solution, just test each number."
   ]
  },
  {
   "cell_type": "code",
   "execution_count": 3,
   "id": "b8970b4b",
   "metadata": {},
   "outputs": [
    {
     "name": "stdout",
     "output_type": "stream",
     "text": [
      "249\n"
     ]
    }
   ],
   "source": [
    "limit = 10000\n",
    "\n",
    "count = 0\n",
    "\n",
    "for i in range(1, limit):\n",
    "    lychrel = True\n",
    "    iter = 50\n",
    "    while iter > 0:\n",
    "        iter -= 1\n",
    "        i += int(str(i)[::-1])\n",
    "        if str(i) == str(i)[::-1]:\n",
    "            lychrel = False\n",
    "            break\n",
    "    if lychrel:\n",
    "        count += 1\n",
    "\n",
    "print(count)"
   ]
  },
  {
   "cell_type": "markdown",
   "id": "4ea0f447",
   "metadata": {},
   "source": [
    "###### Result: **249** | Execution time: 0s"
   ]
  },
  {
   "cell_type": "markdown",
   "id": "46190a8f",
   "metadata": {},
   "source": [
    "##### Tags: #implementation"
   ]
  }
 ],
 "metadata": {
  "kernelspec": {
   "display_name": "Python 3",
   "language": "python",
   "name": "python3"
  },
  "language_info": {
   "codemirror_mode": {
    "name": "ipython",
    "version": 3
   },
   "file_extension": ".py",
   "mimetype": "text/x-python",
   "name": "python",
   "nbconvert_exporter": "python",
   "pygments_lexer": "ipython3",
   "version": "3.13.1"
  }
 },
 "nbformat": 4,
 "nbformat_minor": 5
}
