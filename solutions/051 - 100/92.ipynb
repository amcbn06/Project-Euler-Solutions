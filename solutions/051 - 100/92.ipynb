{
 "cells": [
  {
   "cell_type": "markdown",
   "id": "759fbef0",
   "metadata": {},
   "source": [
    "## Problem #92: Square Digit Chains\n",
    "[Link to Problem](https://projecteuler.net/problem=92)\n",
    "\n",
    "### Problem Description\n",
    "\n",
    "A number chain is created by continuously adding the square of the digits in a number to form a new number until it has been seen before.\n",
    "\n",
    "For example,\n",
    "\n",
    "$$\n",
    "\n",
    "44 \\to 32 \\to 13 \\to 10 \\to \\mathbf 1 \\to \\mathbf 1 \\\\[5pt]\n",
    "85 \\to \\mathbf{89} \\to 145 \\to 42 \\to 20 \\to 4 \\to 16 \\to 37 \\to 58 \\to \\mathbf{89}\n",
    "\n",
    "$$\n",
    "\n",
    "Therefore any chain that arrives at $1$ or $89$ will become stuck in an endless loop. What is most amazing is that EVERY starting number will eventually arrive at $1$ or $89$.\n",
    "\n",
    "How many starting numbers below ten million will arrive at $89$?"
   ]
  },
  {
   "cell_type": "markdown",
   "id": "b7858176",
   "metadata": {},
   "source": [
    "### Approach\n",
    "\n",
    "We can try progressively find at which number the chain ends for each number using a DFS-like approach."
   ]
  },
  {
   "cell_type": "code",
   "execution_count": 6,
   "id": "b8970b4b",
   "metadata": {},
   "outputs": [
    {
     "name": "stdout",
     "output_type": "stream",
     "text": [
      "8581146\n"
     ]
    }
   ],
   "source": [
    "L = 10_000_000\n",
    "\n",
    "tail = {1: 1, 89: 89}\n",
    "\n",
    "def dfs(x):\n",
    "    if x in tail:\n",
    "        return tail[x]\n",
    "    s, y = 0, x\n",
    "    while y:\n",
    "        s += (y % 10) ** 2\n",
    "        y //= 10\n",
    "    tail[x] = dfs(s)\n",
    "    return tail[x]\n",
    "\n",
    "for i in range(1, L):\n",
    "    dfs(i)\n",
    "\n",
    "count = 0\n",
    "\n",
    "for i in range(1, L):\n",
    "    if tail[i] == 89:\n",
    "        count += 1\n",
    "\n",
    "print(count)"
   ]
  },
  {
   "cell_type": "markdown",
   "id": "4ea0f447",
   "metadata": {},
   "source": [
    "###### Result: **8581146** | Execution time: ~17s"
   ]
  },
  {
   "cell_type": "markdown",
   "id": "97cfc915",
   "metadata": {},
   "source": [
    "### Complexity analysis\n",
    "\n",
    "Time complexity: $O(L)$, as each number goes in the function once"
   ]
  },
  {
   "cell_type": "markdown",
   "id": "46190a8f",
   "metadata": {},
   "source": [
    "##### Tags: #cycles, #implementation, #dfs"
   ]
  }
 ],
 "metadata": {
  "kernelspec": {
   "display_name": "Python 3",
   "language": "python",
   "name": "python3"
  },
  "language_info": {
   "codemirror_mode": {
    "name": "ipython",
    "version": 3
   },
   "file_extension": ".py",
   "mimetype": "text/x-python",
   "name": "python",
   "nbconvert_exporter": "python",
   "pygments_lexer": "ipython3",
   "version": "3.13.1"
  }
 },
 "nbformat": 4,
 "nbformat_minor": 5
}
