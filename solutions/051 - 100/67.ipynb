{
 "cells": [
  {
   "cell_type": "markdown",
   "id": "759fbef0",
   "metadata": {},
   "source": [
    "## Problem #67: Maximum Path Sum II\n",
    "[Link to Problem](https://projecteuler.net/problem=67)\n",
    "\n",
    "### Problem Description\n",
    "\n",
    "By starting at the top of the triangle below and moving to adjacent numbers on the row below, the maximum total from top to bottom is 23.\n",
    "\n",
    "$$\n",
    "\n",
    "\\bold{3} \\\\[5pt]\n",
    "\\bold{7} \\quad 4 \\\\[5pt]\n",
    "2 \\quad \\bold{4} \\quad 6 \\\\[5pt]\n",
    "8 \\quad 5 \\quad \\bold{9} \\quad 3\n",
    "\n",
    "$$\n",
    "\n",
    "That is, $3 + 7 + 4 + 9 = 23$.\n",
    "\n",
    "Find the maximum total from top to bottom in [67_triangle.txt](67_triangle.txt), a 15K text file containing a triangle with one-hundred rows.\n",
    "\n",
    "**NOTE:** This is a much more difficult version of [Problem 18](../001%20-%20050/018.py). It is not possible to try every route to solve this problem, as there are $2^{99}$ altogether! If you could check one trillion ($10^{12}$) routes every second it would take over twenty billion years to check them all. There is an efficient algorithm to solve it. ;o)"
   ]
  },
  {
   "cell_type": "markdown",
   "id": "b7858176",
   "metadata": {},
   "source": [
    "### Approach\n",
    "\n",
    "Basic **dynamic programming**.\n",
    "\n",
    "For row $i$ and column $j$, let $\\text{dp}[i][j]$ = the maximum sum we can achieve if we stop at cell $(i, j)$.\n",
    "\n",
    "Recurence: $dp[i][j] = max(dp[i - 1][j], dp[i - 1][j - 1])$"
   ]
  },
  {
   "cell_type": "code",
   "execution_count": 1,
   "id": "b8970b4b",
   "metadata": {},
   "outputs": [
    {
     "name": "stdout",
     "output_type": "stream",
     "text": [
      "7273\n"
     ]
    }
   ],
   "source": [
    "dp = [[]]\n",
    "\n",
    "with open('67_triangle.txt', 'r') as f:\n",
    "    dp = [[int(x) for x in line.split()] for line in f.read().split('\\n')]\n",
    "\n",
    "for i in range(1, len(dp)):\n",
    "    for j in range(i + 1):\n",
    "        prv = 0\n",
    "        if j < i:\n",
    "            prv = dp[i - 1][j]\n",
    "        if j > 0:\n",
    "            prv = max(prv, dp[i - 1][j - 1])\n",
    "        dp[i][j] += prv\n",
    "\n",
    "print(max(dp[-1]))"
   ]
  },
  {
   "cell_type": "markdown",
   "id": "4ea0f447",
   "metadata": {},
   "source": [
    "###### Result: **7273** | Execution time: 0s"
   ]
  },
  {
   "cell_type": "markdown",
   "id": "97cfc915",
   "metadata": {},
   "source": [
    "### Complexity analysis\n",
    "\n",
    "$O(\\text{Number of cells}) = O(N^2)$, where $N$ = size of the pyramid"
   ]
  },
  {
   "cell_type": "markdown",
   "id": "46190a8f",
   "metadata": {},
   "source": [
    "##### Tags: #dynamic-programming"
   ]
  }
 ],
 "metadata": {
  "kernelspec": {
   "display_name": "Python 3",
   "language": "python",
   "name": "python3"
  },
  "language_info": {
   "codemirror_mode": {
    "name": "ipython",
    "version": 3
   },
   "file_extension": ".py",
   "mimetype": "text/x-python",
   "name": "python",
   "nbconvert_exporter": "python",
   "pygments_lexer": "ipython3",
   "version": "3.13.1"
  }
 },
 "nbformat": 4,
 "nbformat_minor": 5
}
