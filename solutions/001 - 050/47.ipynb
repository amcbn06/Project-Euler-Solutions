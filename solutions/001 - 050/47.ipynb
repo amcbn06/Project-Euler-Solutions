{
 "cells": [
  {
   "cell_type": "markdown",
   "id": "759fbef0",
   "metadata": {},
   "source": [
    "## Problem #47: Distinct Primes Factors\n",
    "[Link to Problem](https://projecteuler.net/problem=47)"
   ]
  },
  {
   "cell_type": "markdown",
   "id": "b7858176",
   "metadata": {},
   "source": [
    "### Approach\n",
    "\n",
    "Bruteforce."
   ]
  },
  {
   "cell_type": "code",
   "execution_count": 15,
   "id": "b8970b4b",
   "metadata": {},
   "outputs": [
    {
     "name": "stdout",
     "output_type": "stream",
     "text": [
      "134043\n",
      "134044\n",
      "134045\n",
      "134046\n"
     ]
    }
   ],
   "source": [
    "def count_prime_factors(x):\n",
    "    count = 0\n",
    "    for d in range(2, int(x ** 0.5) + 1):\n",
    "        if x % d == 0:\n",
    "            count += 1\n",
    "            while x % d == 0:\n",
    "                x /= d\n",
    "    if x > 1:\n",
    "        count += 1\n",
    "    return count\n",
    "\n",
    "n = 4\n",
    "\n",
    "i = 1\n",
    "\n",
    "while True:\n",
    "    if count_prime_factors(i) != n:\n",
    "        i += 1\n",
    "        continue\n",
    "    j = i\n",
    "    while count_prime_factors(j + 1) == n and j - i + 1 < n:\n",
    "        j += 1\n",
    "    if j - i + 1 == n:\n",
    "        for k in range(i, j + 1):\n",
    "            print(k)\n",
    "        break\n",
    "    i = j + 1 "
   ]
  },
  {
   "cell_type": "markdown",
   "id": "4ea0f447",
   "metadata": {},
   "source": [
    "###### Result: **134043** | Execution time: ~3s"
   ]
  },
  {
   "cell_type": "markdown",
   "id": "46190a8f",
   "metadata": {},
   "source": [
    "##### Tags: #bruteforce, #primes"
   ]
  }
 ],
 "metadata": {
  "kernelspec": {
   "display_name": "Python 3",
   "language": "python",
   "name": "python3"
  },
  "language_info": {
   "codemirror_mode": {
    "name": "ipython",
    "version": 3
   },
   "file_extension": ".py",
   "mimetype": "text/x-python",
   "name": "python",
   "nbconvert_exporter": "python",
   "pygments_lexer": "ipython3",
   "version": "3.13.1"
  }
 },
 "nbformat": 4,
 "nbformat_minor": 5
}
