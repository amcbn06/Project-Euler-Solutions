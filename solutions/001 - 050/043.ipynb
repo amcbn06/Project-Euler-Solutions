{
 "cells": [
  {
   "cell_type": "markdown",
   "id": "17415774",
   "metadata": {},
   "source": [
    "# Problem 43: Sub-string Divisibility\n",
    "\n",
    "### Solution\n",
    "\n",
    "We'll use backtracking to solve this problem. We recursively add digits at the end of the word. At each step we make sure we did not add the same digit twice and once we have 4 or more digits we start checking the property."
   ]
  },
  {
   "cell_type": "code",
   "execution_count": 6,
   "id": "879ea30b",
   "metadata": {},
   "outputs": [
    {
     "name": "stdout",
     "output_type": "stream",
     "text": [
      "Found: 1406357289\n",
      "Found: 1430952867\n",
      "Found: 1460357289\n",
      "Found: 4106357289\n",
      "Found: 4130952867\n",
      "Found: 4160357289\n",
      "16695334890\n"
     ]
    }
   ],
   "source": [
    "primes = [ 2, 3, 5, 7, 11, 13, 17 ]\n",
    "\n",
    "total = 0\n",
    "\n",
    "used = [False] * 10\n",
    "\n",
    "def backtrack(x):\n",
    "    global total\n",
    "    if len(str(x)) >= 4:\n",
    "        if x % 1000 % primes[len(str(x)) - 4] != 0:\n",
    "            return\n",
    "    if len(str(x)) == 10:\n",
    "        print(\"Found:\", x)\n",
    "        total += x\n",
    "        return\n",
    "    for i in range(10):\n",
    "        if not used[i]:\n",
    "            used[i] = True\n",
    "            backtrack(x * 10 + i)\n",
    "            used[i] = False\n",
    "    \n",
    "for i in range(1, 10):\n",
    "    used[i] = True\n",
    "    backtrack(i)\n",
    "    used[i] = False\n",
    "\n",
    "print(total)"
   ]
  }
 ],
 "metadata": {
  "kernelspec": {
   "display_name": "Python 3",
   "language": "python",
   "name": "python3"
  },
  "language_info": {
   "codemirror_mode": {
    "name": "ipython",
    "version": 3
   },
   "file_extension": ".py",
   "mimetype": "text/x-python",
   "name": "python",
   "nbconvert_exporter": "python",
   "pygments_lexer": "ipython3",
   "version": "3.13.1"
  }
 },
 "nbformat": 4,
 "nbformat_minor": 5
}
