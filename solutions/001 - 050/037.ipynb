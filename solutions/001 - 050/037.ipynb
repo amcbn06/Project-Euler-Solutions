{
 "cells": [
  {
   "cell_type": "markdown",
   "id": "022ec4b1",
   "metadata": {},
   "source": [
    "# Problem 37: Truncatable Primes\n",
    "\n",
    "### Solution to Project Euler problem 37\n",
    "\n",
    "We'll generate numbers by appending digits on the right, ensuring that each prefix of the number is prime. At each step we check that the obtained number's suffixes are all prime. If so, we found a truncable number. "
   ]
  },
  {
   "cell_type": "code",
   "execution_count": 7,
   "id": "479b8f7a",
   "metadata": {},
   "outputs": [
    {
     "name": "stdout",
     "output_type": "stream",
     "text": [
      "748317\n"
     ]
    }
   ],
   "source": [
    "def is_prime(x):\n",
    "    if x < 2:\n",
    "        return False\n",
    "    for i in range(2, int(x ** 0.5) + 1):\n",
    "        if x % i == 0:\n",
    "            return False\n",
    "    return True\n",
    "\n",
    "def check_suffixes(x):\n",
    "    x = str(x)\n",
    "    valid = True\n",
    "    while len(x) > 0:\n",
    "        valid &= is_prime(int(x))\n",
    "        x = x[1:]\n",
    "    return valid\n",
    "\n",
    "sum = 0\n",
    "\n",
    "def backtrack(x):\n",
    "    global sum\n",
    "    if x > 9 and check_suffixes(x):\n",
    "        sum += x\n",
    "    for i in range(1, 10):\n",
    "        y = x * 10 + i\n",
    "        if is_prime(y):\n",
    "            backtrack(y)\n",
    "\n",
    "for x in [ 2, 3, 5, 7 ]:\n",
    "    backtrack(x)\n",
    "\n",
    "print(sum)"
   ]
  }
 ],
 "metadata": {
  "kernelspec": {
   "display_name": "Python 3",
   "language": "python",
   "name": "python3"
  },
  "language_info": {
   "codemirror_mode": {
    "name": "ipython",
    "version": 3
   },
   "file_extension": ".py",
   "mimetype": "text/x-python",
   "name": "python",
   "nbconvert_exporter": "python",
   "pygments_lexer": "ipython3",
   "version": "3.13.1"
  }
 },
 "nbformat": 4,
 "nbformat_minor": 5
}
