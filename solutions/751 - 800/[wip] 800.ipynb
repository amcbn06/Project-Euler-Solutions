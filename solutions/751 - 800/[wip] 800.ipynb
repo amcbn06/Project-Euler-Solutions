{
 "cells": [
  {
   "cell_type": "markdown",
   "id": "7887e9ad",
   "metadata": {},
   "source": [
    "# Problem 800: Hybrid Integers\n",
    "\n",
    "> An integer of the form $p^q q^p$ with prime numbers $ p \\neq q $ is called a hybrid-integer.\n",
    "\n",
    "### Solution\n",
    "\n",
    "$$ p^q q^p \\leq N^N $$\n",
    "\n",
    "If we assume that $ p \\lt q $, then:\n",
    "\n",
    "$$ p^p p^p \\lt p^q q^p \\leq N^N \\Leftrightarrow p \\lt N $$\n",
    "\n",
    "If we fix $p$, then we can iterate $q$ as long as the condition is preserved.\n",
    "\n",
    "But how big can $q$ get? In the worst case, $p = 2$, and $ 2^q q^2 \\leq N^N $\n",
    "\n",
    "If we take apart the inequality, $ q^2 \\leq N^N $ and $ 2^q \\leq N^N $.\n",
    "\n",
    "The first inequality doesn't help us that much, but the second leaves us with $ q \\leq N * log_2{N} $, which means $q$ can't get that big either.\n",
    "\n",
    "One last detail is that we won't directly check if the inequality is true, we'll take the logarithm of both sides.\n",
    "\n",
    "$$ p^q q^p \\leq N^N \\Leftrightarrow q \\ln p + p \\ln q \\;\\leq\\; N \\ln N $$"
   ]
  },
  {
   "cell_type": "code",
   "execution_count": 3,
   "id": "6be60d4a",
   "metadata": {},
   "outputs": [
    {
     "name": "stdout",
     "output_type": "stream",
     "text": [
      "Limit: 15704508\n"
     ]
    },
    {
     "ename": "KeyboardInterrupt",
     "evalue": "",
     "output_type": "error",
     "traceback": [
      "\u001b[31m---------------------------------------------------------------------------\u001b[39m",
      "\u001b[31mKeyboardInterrupt\u001b[39m                         Traceback (most recent call last)",
      "\u001b[36mCell\u001b[39m\u001b[36m \u001b[39m\u001b[32mIn[3]\u001b[39m\u001b[32m, line 34\u001b[39m\n\u001b[32m     32\u001b[39m \u001b[38;5;28;01mfor\u001b[39;00m j \u001b[38;5;129;01min\u001b[39;00m \u001b[38;5;28mrange\u001b[39m(i + \u001b[32m1\u001b[39m, \u001b[38;5;28mlen\u001b[39m(primes)):\n\u001b[32m     33\u001b[39m     p, q = primes[i], primes[j]\n\u001b[32m---> \u001b[39m\u001b[32m34\u001b[39m     \u001b[38;5;28;01mif\u001b[39;00m \u001b[43mcheck\u001b[49m\u001b[43m(\u001b[49m\u001b[43mp\u001b[49m\u001b[43m,\u001b[49m\u001b[43m \u001b[49m\u001b[43mq\u001b[49m\u001b[43m)\u001b[49m:\n\u001b[32m     35\u001b[39m         counter += \u001b[32m1\u001b[39m\n\u001b[32m     36\u001b[39m     \u001b[38;5;28;01melse\u001b[39;00m:\n",
      "\u001b[36mCell\u001b[39m\u001b[36m \u001b[39m\u001b[32mIn[3]\u001b[39m\u001b[32m, line 27\u001b[39m, in \u001b[36mcheck\u001b[39m\u001b[34m(p, q)\u001b[39m\n\u001b[32m     25\u001b[39m \u001b[38;5;28;01mdef\u001b[39;00m\u001b[38;5;250m \u001b[39m\u001b[34mcheck\u001b[39m(p, q):\n\u001b[32m     26\u001b[39m     \u001b[38;5;28;01mimport\u001b[39;00m\u001b[38;5;250m \u001b[39m\u001b[34;01mmath\u001b[39;00m\n\u001b[32m---> \u001b[39m\u001b[32m27\u001b[39m     \u001b[38;5;28;01mreturn\u001b[39;00m q * math.log(p) + p * \u001b[43mmath\u001b[49m\u001b[43m.\u001b[49m\u001b[43mlog\u001b[49m\u001b[43m(\u001b[49m\u001b[43mq\u001b[49m\u001b[43m)\u001b[49m <= N * math.log(N)\n",
      "\u001b[31mKeyboardInterrupt\u001b[39m: "
     ]
    }
   ],
   "source": [
    "from math import log\n",
    "\n",
    "N = 800800\n",
    "\n",
    "def check(limit):\n",
    "    return limit * log(2) + 2 * log(limit) <= N * log(N)\n",
    "\n",
    "limit = 1\n",
    "\n",
    "while check(limit):\n",
    "    limit += 1\n",
    "\n",
    "print(\"Limit:\", limit)\n",
    "\n",
    "sieve = [True] * limit\n",
    "sieve[0] = sieve[1] = False\n",
    "\n",
    "for i in range(2, limit):\n",
    "    if sieve[i]:\n",
    "        for j in range(i * i, limit, i):\n",
    "            sieve[j] = False\n",
    "\n",
    "primes = [i for i, is_prime in enumerate(sieve) if is_prime]\n",
    "\n",
    "def check(p, q):\n",
    "    return q * log(p) + p * log(q) <= N * log(N)\n",
    "\n",
    "counter = 0\n",
    "\n",
    "for i in range(len(primes)):\n",
    "    for j in range(i + 1, len(primes)):\n",
    "        p, q = primes[i], primes[j]\n",
    "        if check(p, q):\n",
    "            counter += 1\n",
    "        else:\n",
    "            break\n",
    "\n",
    "print(counter)"
   ]
  }
 ],
 "metadata": {
  "kernelspec": {
   "display_name": "Python 3",
   "language": "python",
   "name": "python3"
  },
  "language_info": {
   "codemirror_mode": {
    "name": "ipython",
    "version": 3
   },
   "file_extension": ".py",
   "mimetype": "text/x-python",
   "name": "python",
   "nbconvert_exporter": "python",
   "pygments_lexer": "ipython3",
   "version": "3.13.1"
  }
 },
 "nbformat": 4,
 "nbformat_minor": 5
}
