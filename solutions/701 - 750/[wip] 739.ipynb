{
 "cells": [
  {
   "cell_type": "markdown",
   "id": "759fbef0",
   "metadata": {},
   "source": [
    "## Problem #739: Summation of Summations\n",
    "[Link to Problem](https://projecteuler.net/problem=739)\n",
    "\n",
    "### Problem Description\n",
    "\n",
    "Take a sequence of length $n$. Discard the first term then make a sequence of the partial summations. Continue to do this over and over until we are left with a single term. We define this to be $f(n)$.\n",
    "\n",
    "Consider the example where we start with a sequence of length 8:\n",
    "\n",
    "\n",
    "$$\n",
    "\n",
    "\\begin{array}{cccccccc}\n",
    "1 & 1 & 1 & 1 & 1 & 1 & 1 & 1 \\\\\n",
    "  & 1 & 2 & 3 & 4 & 5 & 6 & 7 \\\\\n",
    "  &   & 2 & 5 & 9 & 14 & 20 & 27 \\\\\n",
    "  &   &   & 5 & 14 & 28 & 48 & 75 \\\\\n",
    "  &   &   &   & 14 & 42 & 90 & 165 \\\\\n",
    "  &   &   &   &    & 42 & 132 & 297 \\\\\n",
    "  &   &   &   &    &    & 132 & 429 \\\\\n",
    "  &   &   &   &    &    &     & 429 \\\\\n",
    "\\end{array}\n",
    "\n",
    "$$\n",
    "\n",
    "Then the final number is $429$, so $f(8) = 429$.\n",
    "\n",
    "For this problem we start with the sequence $1,3,4,7,11,18,29,47,\\ldots$\n",
    "\n",
    "This is the Lucas sequence where two terms are added to get the next term.\n",
    "\n",
    "Applying the same process as above we get $f(8) = 2663$.\n",
    "\n",
    "You are also given $f(20) = 742296999 $ modulo $1\\,000\\,000\\,007$.\n",
    "\n",
    "Find $f(10^8)$. Give your answer modulo $1\\,000\\,000\\,007$."
   ]
  },
  {
   "cell_type": "markdown",
   "id": "b7858176",
   "metadata": {},
   "source": [
    "### Approach\n"
   ]
  },
  {
   "cell_type": "code",
   "execution_count": 4,
   "id": "b8970b4b",
   "metadata": {},
   "outputs": [
    {
     "name": "stdout",
     "output_type": "stream",
     "text": [
      "   1    3    4    7   11   18   29   47\n",
      "        3    7   14   25   43   72  119\n",
      "             7   21   46   89  161  280\n",
      "                 21   67  156  317  597\n",
      "                      67  223  540 1137\n",
      "                          223  763 1900\n",
      "                               763 2663\n",
      "                                   2663\n",
      "2663\n"
     ]
    }
   ],
   "source": [
    "def f(n):\n",
    "    seq = [1, 3]\n",
    "    while len(seq) < n:\n",
    "        seq.append(seq[-1] + seq[-2])\n",
    "    print(\" \" * (5 * (n - len(seq))) + \" \".join([\" \" * (4 - len(str(x))) + str(x) for x in seq]))\n",
    "    while len(seq) > 1:\n",
    "        seq = seq[1:]\n",
    "        for i in range(1, len(seq)):\n",
    "            seq[i] += seq[i - 1]\n",
    "        print(\" \" * (5 * (n - len(seq))) + \" \".join([\" \" * (4 - len(str(x))) + str(x) for x in seq]))\n",
    "    return seq[0]\n",
    "\n",
    "print(f(8))"
   ]
  },
  {
   "cell_type": "markdown",
   "id": "4ea0f447",
   "metadata": {},
   "source": [
    "###### Result: x | Execution time: s"
   ]
  },
  {
   "cell_type": "markdown",
   "id": "97cfc915",
   "metadata": {},
   "source": [
    "### Complexity analysis"
   ]
  },
  {
   "cell_type": "markdown",
   "id": "46190a8f",
   "metadata": {},
   "source": [
    "##### Tags: #factorials"
   ]
  }
 ],
 "metadata": {
  "kernelspec": {
   "display_name": "Python 3",
   "language": "python",
   "name": "python3"
  },
  "language_info": {
   "codemirror_mode": {
    "name": "ipython",
    "version": 3
   },
   "file_extension": ".py",
   "mimetype": "text/x-python",
   "name": "python",
   "nbconvert_exporter": "python",
   "pygments_lexer": "ipython3",
   "version": "3.13.1"
  }
 },
 "nbformat": 4,
 "nbformat_minor": 5
}
