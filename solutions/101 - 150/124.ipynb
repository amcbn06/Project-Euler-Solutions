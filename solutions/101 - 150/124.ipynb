{
 "cells": [
  {
   "cell_type": "markdown",
   "id": "759fbef0",
   "metadata": {},
   "source": [
    "## Problem #124: Ordered Radicals\n",
    "[Link to Problem](https://projecteuler.net/problem=124)\n",
    "\n",
    "### Problem Description\n",
    "\n",
    "The radical of $n$, $\\operatorname{rad}(n)$, is the product of the distinct prime factors of $n$. For example, $504 = 2^3 \\times 3^2 \\times 7$, so $\\operatorname{rad}(504) = 2 \\times 3 \\times 7 = 42$.\n",
    "\n",
    "If we calculate $\\operatorname{rad}(n)$ for $1 \\le n \\le 10$, then sort them on $\\operatorname{rad}(n)$, and sorting on $n$ if the radical values are equal, we get:\n",
    "\n",
    "<table class=\"center\">\n",
    "<tr>\n",
    "   <th colspan=\"2\">Unsorted</th>\n",
    "   <th colspan=\"3\">Sorted</th>\n",
    "</tr>\n",
    "<tr>\n",
    "   <th class=\"w50\"><i>n</i></th>\n",
    "   <th class=\"w50\">rad(<i>n</i>)</th>\n",
    "   <th class=\"w50\"><i>n</i></th>\n",
    "   <th class=\"w50\">rad(<i>n</i>)</th>\n",
    "   <th class=\"w50\">k</th>\n",
    "</tr>\n",
    "<tr>\n",
    "   <td>1</td><td>1</td>\n",
    "   <td>1</td><td>1</td><td>1</td>\n",
    "</tr>\n",
    "<tr>\n",
    "   <td>2</td><td>2</td>\n",
    "   <td>2</td><td>2</td><td>2</td>\n",
    "</tr>\n",
    "<tr>\n",
    "   <td>3</td><td>3</td>\n",
    "   <td>4</td><td>2</td><td>3</td>\n",
    "</tr>\n",
    "<tr>\n",
    "   <td>4</td><td>2</td>\n",
    "   <td>8</td><td>2</td><td>4</td>\n",
    "</tr>\n",
    "<tr>\n",
    "   <td>5</td><td>5</td>\n",
    "   <td>3</td><td>3</td><td>5</td>\n",
    "</tr>\n",
    "<tr>\n",
    "   <td>6</td><td>6</td>\n",
    "   <td>9</td><td>3</td><td>6</td>\n",
    "</tr>\n",
    "<tr>\n",
    "   <td>7</td><td>7</td>\n",
    "   <td>5</td><td>5</td><td>7</td>\n",
    "</tr>\n",
    "<tr>\n",
    "   <td>8</td><td>2</td>\n",
    "   <td>6</td><td>6</td><td>8</td>\n",
    "</tr>\n",
    "<tr>\n",
    "   <td>9</td><td>3</td>\n",
    "   <td>7</td><td>7</td><td>9</td>\n",
    "</tr>\n",
    "<tr>\n",
    "   <td>10</td><td>10</td>\n",
    "   <td>10</td><td>10</td><td>10</td>\n",
    "</tr>\n",
    "</table>\n",
    "\n",
    "Let $E(k)$ be the $k$-th element in the sorted $n$ column; for example, $E(4) = 8$ and $E(6) = 9$.\n",
    "\n",
    "If $\\operatorname{rad}(n)$ is sorted for $1 \\le n \\le 100000$, find $E(10000)$."
   ]
  },
  {
   "cell_type": "markdown",
   "id": "b7858176",
   "metadata": {},
   "source": [
    "### Approach\n",
    "\n",
    "Compute the smallest prime factor for each number $\\leq 10^5$. This will then help us compute $rad(n)$ for any $n$ up to $10^5$. Then we just sort the numbers."
   ]
  },
  {
   "cell_type": "code",
   "execution_count": 4,
   "id": "b8970b4b",
   "metadata": {},
   "outputs": [
    {
     "name": "stdout",
     "output_type": "stream",
     "text": [
      "21417\n"
     ]
    }
   ],
   "source": [
    "L = 10 ** 5 + 1\n",
    "\n",
    "spf = [i for i in range(L)]\n",
    "\n",
    "for i in range(2, int(L ** 0.5) + 1):\n",
    "    if spf[i] == i:\n",
    "        for j in range(i * i, L, i):\n",
    "            spf[j] = min(spf[j], i)\n",
    "\n",
    "rad = [1] * L\n",
    "\n",
    "for i in range(2, L):\n",
    "    if spf[i] == spf[i // spf[i]]:\n",
    "        rad[i] = rad[i // spf[i]]\n",
    "    else:\n",
    "        rad[i] = rad[i // spf[i]] * spf[i]\n",
    "\n",
    "order = sorted(range(L), key=lambda x: (rad[x], x))\n",
    "\n",
    "print(order[10000])"
   ]
  },
  {
   "cell_type": "markdown",
   "id": "4ea0f447",
   "metadata": {},
   "source": [
    "###### Result: **21417** | Execution time: ~0s"
   ]
  },
  {
   "cell_type": "markdown",
   "id": "97cfc915",
   "metadata": {},
   "source": [
    "### Complexity analysis\n",
    "\n",
    "Time complexity: $O(N\\log{N})$ from the sieve algorithm for finding spf and from the sorting"
   ]
  },
  {
   "cell_type": "markdown",
   "id": "46190a8f",
   "metadata": {},
   "source": [
    "##### Tags: #primes, #sieve, #sorting"
   ]
  }
 ],
 "metadata": {
  "kernelspec": {
   "display_name": "Python 3",
   "language": "python",
   "name": "python3"
  },
  "language_info": {
   "codemirror_mode": {
    "name": "ipython",
    "version": 3
   },
   "file_extension": ".py",
   "mimetype": "text/x-python",
   "name": "python",
   "nbconvert_exporter": "python",
   "pygments_lexer": "ipython3",
   "version": "3.13.1"
  }
 },
 "nbformat": 4,
 "nbformat_minor": 5
}
