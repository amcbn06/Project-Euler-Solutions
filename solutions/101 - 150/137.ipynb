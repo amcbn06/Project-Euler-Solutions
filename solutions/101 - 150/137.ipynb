{
 "cells": [
  {
   "cell_type": "markdown",
   "id": "759fbef0",
   "metadata": {},
   "source": [
    "## Problem #137: Fibonacci Golden Nuggets\n",
    "[Link to Problem](https://projecteuler.net/problem=137)\n",
    "\n",
    "### Problem Description\n",
    "\n",
    "Consider the infinite polynomial series $A_F(x) = x F_1 + x^2 F_2 + x^3 F_3 + \\dots$, where $F_k$ is the $k$th term in the Fibonacci sequence: $1, 1, 2, 3, 5, 8, \\dots$; that is, $F_k = F_{k-1} + F_{k-2}$, $F_1 = 1$ and $F_2 = 1$.\n",
    "\n",
    "For this problem we shall be interested in values of $x$ for which $A_F(x)$ is a positive integer. Surprisingly,\n",
    "\n",
    "$$\n",
    "\n",
    "\\begin{aligned}\n",
    "A_F\\left(\\frac{1}{2}\\right) &= \\left(\\frac{1}{2}\\right)\\times 1 + \\left(\\frac{1}{2}\\right)^2\\times 1 + \\left(\\frac{1}{2}\\right)^3\\times 2 + \\left(\\frac{1}{2}\\right)^4\\times 3 + \\left(\\frac{1}{2}\\right)^5\\times 5 + \\cdots \\\\[5pt]\n",
    "&= \\frac{1}{2} + \\frac{1}{4} + \\frac{2}{8} + \\frac{3}{16} + \\frac{5}{32} + \\cdots \\\\[5pt]\n",
    "&= 2\n",
    "\\end{aligned}\n",
    "\n",
    "$$\n",
    "\n",
    "The corresponding values of $x$ for the first five natural numbers are shown below.\n",
    "\n",
    "| $x$                 | $A_F(x)$ |\n",
    "| :------------------ | :------- |\n",
    "| $\\sqrt{2}-1$        | 1        |\n",
    "| $\\frac{1}{2}$       | 2        |\n",
    "| $\\frac{\\sqrt{13}-2}{3}$ | 3        |\n",
    "| $\\frac{\\sqrt{89}-5}{8}$ | 4        |\n",
    "| $\\frac{\\sqrt{34}-3}{5}$ | 5        |\n",
    "\n",
    "We shall call $A_F(x)$ a golden nugget if $x$ is rational, because they become increasingly rarer; for example, the $10^{th}$ golden nugget is $74049690$.\n",
    "\n",
    "Find the $15^{th}$ golden nugget."
   ]
  },
  {
   "cell_type": "markdown",
   "id": "b7858176",
   "metadata": {},
   "source": [
    "### Approach\n",
    "\n",
    "Let's do some math:\n",
    "\n",
    "$$\n",
    "\n",
    "A_F(x) = x F_1 + x^2 F_2 + x^3 F_3 + ... \\\\[5pt]\n",
    "\n",
    "x A_F(x) = x^2 F_1 + x^3 F_2 + x^4 F_3 + ... \\\\[5pt]\n",
    "\n",
    "\\Rightarrow (x + 1) A_F(x) = x F_1 + x^2 F_3 + x^3 F_4 + ... \\\\[5pt]\n",
    "\n",
    "x (x + 1) A_F(x) = x^2 F_1 + x^3 F_3 + x^4 F_4 + ... \\\\[5pt]\n",
    "\n",
    "x (x + 1) A_F(x) + x F_1 + x^2 F_2 = x^2 F_1 + x F_1 + x^2 F_2 + x^3 F_3 + x^4 F_4 + ... \\\\[5pt]\n",
    "\n",
    "x (x + 1) A_F(x) + x + x^2 = x^2 + A_F(x) \\\\[5pt]\n",
    "\n",
    "(x (x + 1) - 1) A_F(x) = -x \\\\[5pt]\n",
    "\n",
    "(x^2 + x - 1) A_F(x) = -x\n",
    "\n",
    "$$\n",
    "\n",
    "Therefore, we proved that:\n",
    "\n",
    "$$\n",
    "\n",
    "A_F(x) = -\\frac{x}{x^2 + x - 1}\n",
    "\n",
    "$$\n",
    "\n",
    "If $A_F(x) = k$, $k$ integer, then:\n",
    "\n",
    "$$\n",
    "\n",
    "k (x^2 + x - 1) = -x \\\\[5pt]\n",
    "\n",
    "k x^2 + k x - k = -x \\\\[5pt]\n",
    "\n",
    "k x^2 + (k + 1) x - k = 0 \\\\[5pt]\n",
    "\n",
    "$$\n",
    "\n",
    "Then, $a = k$, $b = k + 1$, $c = -k$, therefore $\\Delta = b^2 - 4 a c = (k + 1)^2 - 4 k (-k) = 5k^2 + 2 k + 1$.\n",
    "\n",
    "So $x = \\frac{-b \\pm \\sqrt{\\Delta}}{2 a} = \\frac{\\pm \\sqrt{\\Delta} - k - 1}{2 k}$. Now, x is rational only and only if $\\Delta$ is rational. Then we can run a bruteforce.\n",
    "\n",
    "What i noticed is that the values of the golden nuggets grow exponentially, with a ratio of approximately $6.854101966249$. Further checking the thread for the problem I saw that the differences of the golden nuggets are members of the Fibonacci series of the form $4k + 1$. Guess what! The ratio i found is exactly $\\varphi^4$, where $\\varphi$ is the golden ratio! _(pretty cool if you ask me)_"
   ]
  },
  {
   "cell_type": "code",
   "execution_count": null,
   "id": "b8970b4b",
   "metadata": {},
   "outputs": [
    {
     "name": "stdout",
     "output_type": "stream",
     "text": [
      "#1: k = 2, √Δ = 5.0\n",
      "#2: k = 15, √Δ = 34.0\n",
      "Ratio to previous: 7.50000000000000000000\n",
      "#3: k = 104, √Δ = 233.0\n",
      "Ratio to previous: 6.93333333333333357018\n",
      "#4: k = 714, √Δ = 1597.0\n",
      "Ratio to previous: 6.86538461538461497469\n",
      "#5: k = 4895, √Δ = 10946.0\n",
      "Ratio to previous: 6.85574229691876713133\n",
      "#6: k = 33552, √Δ = 75025.0\n",
      "Ratio to previous: 6.85434116445352437097\n",
      "#7: k = 229970, √Δ = 514229.0\n",
      "Ratio to previous: 6.85413686218407214312\n",
      "#8: k = 1576239, √Δ = 3524578.0\n",
      "Ratio to previous: 6.85410705744227488623\n",
      "#9: k = 10803704, √Δ = 24157817.0\n",
      "Ratio to previous: 6.85410270904348895016\n",
      "#10: k = 74049690, √Δ = 165580141.0\n",
      "Ratio to previous: 6.85410207462181464422\n",
      "#11: k = 507544127, √Δ = 1134903170.0\n",
      "Ratio to previous: 6.85410198206096499263\n",
      "#12: k = 3478759200, √Δ = 7778742049.0\n",
      "Ratio to previous: 6.85410196855651943082\n",
      "#13: k = 23843770274, √Δ = 53316291173.0\n",
      "Ratio to previous: 6.85410196658624748522\n",
      "#14: k = 163427632719, √Δ = 365435296162.0\n",
      "Ratio to previous: 6.85410196629878853969\n",
      "#15: k = 1120149658760, √Δ = 2504730781961.0\n",
      "Ratio to previous: 6.85410196625684875471\n"
     ]
    }
   ],
   "source": [
    "limit = 15\n",
    "count = 0\n",
    "\n",
    "previous_k = -1\n",
    "k = 1\n",
    "while count < limit:\n",
    "    delta = 5 * k ** 2 + 2 * k + 1\n",
    "    x = (delta ** 0.5 - k - 1) / (2 * k)\n",
    "    if int(delta ** 0.5) ** 2 == delta:\n",
    "        count += 1\n",
    "        print(f\"#{count}: k = {k}, √Δ = {delta ** 0.5}\")\n",
    "        if previous_k != -1:\n",
    "            print(f\"Ratio to previous: {k / previous_k:.20f}\")\n",
    "        previous_k = k\n",
    "        k = int(k * 6.854101966249 - 1)\n",
    "    k += 1"
   ]
  },
  {
   "cell_type": "markdown",
   "id": "4ea0f447",
   "metadata": {},
   "source": [
    "###### Result: **1120149658760** | Execution time: 0s (after some trial and error)"
   ]
  },
  {
   "cell_type": "markdown",
   "id": "97cfc915",
   "metadata": {},
   "source": [
    "### Complexity analysis\n",
    "\n",
    "Good question."
   ]
  },
  {
   "cell_type": "markdown",
   "id": "46190a8f",
   "metadata": {},
   "source": [
    "##### Tags: #fibonacci, #series"
   ]
  }
 ],
 "metadata": {
  "kernelspec": {
   "display_name": "Python 3",
   "language": "python",
   "name": "python3"
  },
  "language_info": {
   "codemirror_mode": {
    "name": "ipython",
    "version": 3
   },
   "file_extension": ".py",
   "mimetype": "text/x-python",
   "name": "python",
   "nbconvert_exporter": "python",
   "pygments_lexer": "ipython3",
   "version": "3.13.1"
  }
 },
 "nbformat": 4,
 "nbformat_minor": 5
}
