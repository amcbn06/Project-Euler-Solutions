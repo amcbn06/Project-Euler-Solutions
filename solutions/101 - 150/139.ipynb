{
 "cells": [
  {
   "cell_type": "markdown",
   "id": "759fbef0",
   "metadata": {},
   "source": [
    "## Problem #139: Pythagorean Tiles\n",
    "[Link to Problem](https://projecteuler.net/problem=139)\n",
    "\n",
    "### Problem Description\n",
    "\n",
    "How many right triangles $(a, b, c)$ with perimeter less than $10^5$ are there such that, when four of these triangles are arranged to tile a square of side $c$, the remaining central square gap can also be used to completely tile the entire $c \\times c$ square?\n",
    "\n",
    "![Vizualization for (3, 4, 5)](https://projecteuler.net/resources/images/0139.png?1678992052)"
   ]
  },
  {
   "cell_type": "markdown",
   "id": "b7858176",
   "metadata": {},
   "source": [
    "### Approach\n",
    "\n",
    "Let's analyze the problem. The area of a triangle is $\\frac{ab}{2}$, meaning the area of the gap square is:\n",
    "\n",
    "$$\n",
    "area_{gap} = c^2 - 4\\frac{ab}{2} = c^2 - 2ab\n",
    "$$\n",
    "\n",
    "This area divides the area of the $ c \\times c $ square, meaning:\n",
    "\n",
    "$$\n",
    "c^2 - 2ab \\mid c^2\n",
    "$$\n",
    "\n",
    "We know from the Pythagorean theorem that $c^2 = a^2 + b^2$, therefore:\n",
    "\n",
    "$$\n",
    "a^2 + b^2 - 2ab \\mid c^2 \\\\[5pt]\n",
    "(b - a)^2 \\mid c^2 \\\\[5pt]\n",
    "b - a \\mid c\n",
    "$$\n",
    "\n",
    "Therefore we just have to compute the amount of Pythagorean triples that satisfy this property.\n",
    "\n",
    "We can generate *primitive* (a, b, c are coprime) Pythagorean triples using Euclid's formula ($m$, $n$ coprime, different parities):\n",
    "\n",
    "$$\n",
    "a = m^2 - n^2 \\\\[5pt]\n",
    "b = 2mn \\\\[5pt]\n",
    "c = m^2 + n^2\n",
    "$$\n",
    "\n",
    "How do we generate?\n",
    "\n",
    "$$\n",
    "c < 10^8 \\Rightarrow m^2 < 10^8 \\Rightarrow m < 10^4 \n",
    "$$\n",
    "\n",
    "After we generate a primitive triple, we can generalize it and obtain $\\frac{10^8}{a + b + c}$ total triples. Therefore all we have to do is generate these triples and sum for each the number of generalizations."
   ]
  },
  {
   "cell_type": "code",
   "execution_count": null,
   "id": "b8970b4b",
   "metadata": {},
   "outputs": [],
   "source": [
    "from math import gcd\n",
    "\n",
    "limit = 100000000\n",
    "\n",
    "count = 0\n",
    "\n",
    "for m in range(2, int(limit ** 0.5) + 1):\n",
    "    for n in range(1, m):\n",
    "        if (m - n) % 2 == 1 and gcd(n, m) == 1:\n",
    "            a = m * m - n * n\n",
    "            b = 2 * n * m\n",
    "            c = m * m + n * n\n",
    "            if a + b + c <= limit and c % (b - a) == 0:\n",
    "                print(f\"({a}, {b}, {c})\")\n",
    "                count += limit // (a + b + c)\n",
    "\n",
    "print(count)"
   ]
  },
  {
   "cell_type": "markdown",
   "id": "4ea0f447",
   "metadata": {},
   "source": [
    "###### Result: **10057761** | Execution time: ~21s"
   ]
  },
  {
   "cell_type": "markdown",
   "id": "97cfc915",
   "metadata": {},
   "source": [
    "### Complexity analysis"
   ]
  },
  {
   "cell_type": "markdown",
   "id": "63a8f2af",
   "metadata": {},
   "source": [
    "$\\sum\\limits_{m=2}^{\\sqrt{limit}} m \\leq \\sum\\limits_{m=2}^{\\sqrt{limit}} \\leq limit$\n",
    "\n",
    "Time complexity: $O(limit)$"
   ]
  },
  {
   "cell_type": "markdown",
   "id": "46190a8f",
   "metadata": {},
   "source": [
    "##### Tags: #pythagorean-triple #divisibility #bruteforce"
   ]
  }
 ],
 "metadata": {
  "kernelspec": {
   "display_name": "Python 3",
   "language": "python",
   "name": "python3"
  },
  "language_info": {
   "codemirror_mode": {
    "name": "ipython",
    "version": 3
   },
   "file_extension": ".py",
   "mimetype": "text/x-python",
   "name": "python",
   "nbconvert_exporter": "python",
   "pygments_lexer": "ipython3",
   "version": "3.13.1"
  }
 },
 "nbformat": 4,
 "nbformat_minor": 5
}
