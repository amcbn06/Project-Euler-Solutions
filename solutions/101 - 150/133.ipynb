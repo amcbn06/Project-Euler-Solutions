{
 "cells": [
  {
   "cell_type": "markdown",
   "id": "759fbef0",
   "metadata": {},
   "source": [
    "## Problem #133: Repunit Nonfactors\n",
    "[Link to Problem](https://projecteuler.net/problem=133)\n",
    "\n",
    "### Problem Description\n",
    "\n",
    "A number consisting entirely of ones is called a repunit. We shall define $R(k)$ to be a repunit of length $k$; for example, $R(6) = 111111$.\n",
    "\n",
    "Let us consider repunits of the form $R(10^n)$.\n",
    "\n",
    "Although $R(10)$, $R(100)$, or $R(1000)$ are not divisible by $17$, $R(10000)$ is divisible by $17$. Yet there is no value of $n$ for which $R(10^n)$ will divide by $19$. In fact, it is remarkable that $11$, $17$, $41$, and $73$ are the only four primes below one-hundred that can  be a factor of $R(10^n)$.\n",
    "\n",
    "Find the sum of all the primes below one-hundred thousand that will never be a factor of $R(10^n)$."
   ]
  },
  {
   "cell_type": "markdown",
   "id": "b7858176",
   "metadata": {},
   "source": [
    "### Approach\n",
    "\n",
    "First of all, $R(x) = \\frac{10^x - 1}{9}$.\n",
    "\n",
    "Then if we use some modular arithmetic:\n",
    "\n",
    "$$\n",
    "\n",
    "R(10^n) = \\frac{10^{10^n} - 1}{9} \\\\[5pt]\n",
    "\n",
    "\\frac{10^{10^n} - 1}{9} \\equiv 0 \\pmod{p} \\\\[5pt]\n",
    "\n",
    "\\gcd(9, p) = 1, \\; \\forall \\; p \\geq 100 \\\\[5pt]\n",
    "\n",
    "\\Rightarrow  10^{10^n} \\equiv 1 \\pmod{p} \\\\[5pt]\n",
    "\n",
    "$$\n",
    "\n",
    "Let's take a step back, if $10^x \\equiv 1 \\pmod{p}$, then $x$ must divide $\\varphi(p) = p - 1$.\n",
    "\n",
    "Therefore if we find the minimum value for $x$, and this $x$ is of the form $2^{e_1}5^{e_2}$, we can safely assume that there exists a big enough $n$ for which $R(X)$ is divisible by $p$."
   ]
  },
  {
   "cell_type": "code",
   "execution_count": 4,
   "id": "b8970b4b",
   "metadata": {},
   "outputs": [
    {
     "name": "stdout",
     "output_type": "stream",
     "text": [
      "Answer: 453647705\n"
     ]
    }
   ],
   "source": [
    "limit = 100000\n",
    "\n",
    "sieve = [True] * limit\n",
    "sieve[0] = sieve[1] = False\n",
    "\n",
    "for i in range(2, limit):\n",
    "    if sieve[i]:\n",
    "        for j in range(i * i, limit, i):\n",
    "            sieve[j] = False\n",
    "\n",
    "can_be_factor = 0\n",
    "\n",
    "for p in range(10, limit):\n",
    "    if sieve[p]:\n",
    "        x = p - 1\n",
    "        for d in range(1, int((p - 1) ** 0.5) + 1):\n",
    "            if (p - 1) % d == 0:\n",
    "                if pow(10, d, p) == 1:\n",
    "                    x = min(x, d)\n",
    "                if pow(10, (p - 1) // d, p) == 1:\n",
    "                    x = min(x, (p - 1) // d)\n",
    "        while x % 2 == 0:\n",
    "            x //= 2\n",
    "        while x % 5 == 0:\n",
    "            x //= 5\n",
    "        if x == 1:\n",
    "            can_be_factor += p\n",
    "\n",
    "total = sum([index for index, value in enumerate(sieve) if value])\n",
    "\n",
    "print(f\"Answer: {total - can_be_factor}\")"
   ]
  },
  {
   "cell_type": "markdown",
   "id": "4ea0f447",
   "metadata": {},
   "source": [
    "###### Result: **453647705** | Execution time: ~0s"
   ]
  },
  {
   "cell_type": "markdown",
   "id": "97cfc915",
   "metadata": {},
   "source": [
    "### Complexity analysis\n",
    "\n",
    "Time complexity: $O(limit\\sqrt{limit})$"
   ]
  },
  {
   "cell_type": "markdown",
   "id": "46190a8f",
   "metadata": {},
   "source": [
    "##### Tags: #number-theory, #modular-arithmetic, #primes"
   ]
  }
 ],
 "metadata": {
  "kernelspec": {
   "display_name": "Python 3",
   "language": "python",
   "name": "python3"
  },
  "language_info": {
   "codemirror_mode": {
    "name": "ipython",
    "version": 3
   },
   "file_extension": ".py",
   "mimetype": "text/x-python",
   "name": "python",
   "nbconvert_exporter": "python",
   "pygments_lexer": "ipython3",
   "version": "3.13.1"
  }
 },
 "nbformat": 4,
 "nbformat_minor": 5
}
