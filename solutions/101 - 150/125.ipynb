{
 "cells": [
  {
   "cell_type": "markdown",
   "id": "759fbef0",
   "metadata": {},
   "source": [
    "## Problem #125: Palindromic Sums\n",
    "[Link to Problem](https://projecteuler.net/problem=125)"
   ]
  },
  {
   "cell_type": "markdown",
   "id": "b7858176",
   "metadata": {},
   "source": [
    "### Approach\n",
    "\n",
    "We can just bruteforce: we fix the first number and we keep increasing the series of consecutive numbers."
   ]
  },
  {
   "cell_type": "code",
   "execution_count": 6,
   "id": "b8970b4b",
   "metadata": {},
   "outputs": [
    {
     "name": "stdout",
     "output_type": "stream",
     "text": [
      "2906969179\n"
     ]
    }
   ],
   "source": [
    "limit = 10 ** 8\n",
    "\n",
    "unique = set()\n",
    "\n",
    "for a in range(1, int(limit ** 0.5) + 1):\n",
    "    sum = a ** 2 + (a + 1) ** 2\n",
    "    b = a + 1\n",
    "    while sum < limit:\n",
    "        if str(sum) == str(sum)[::-1]:\n",
    "            unique.add(sum)\n",
    "        b += 1\n",
    "        sum += b ** 2\n",
    "\n",
    "sum = 0\n",
    "for x in unique:\n",
    "    sum += x\n",
    "\n",
    "print(sum)"
   ]
  },
  {
   "cell_type": "markdown",
   "id": "4ea0f447",
   "metadata": {},
   "source": [
    "###### Result: **2906969179** | Execution time: 0s"
   ]
  },
  {
   "cell_type": "markdown",
   "id": "97cfc915",
   "metadata": {},
   "source": [
    "### Complexity analysis\n",
    "\n",
    "The first `for` runs in $O(\\sqrt{limit})$. The second `for` runs in $O(\\sqrt[3]{limit})$ (think of the formula for the sum of consecutive squares starting from 1). Therefore the time complexity is $O(limit^{\\frac{5}{6}})$"
   ]
  },
  {
   "cell_type": "markdown",
   "id": "46190a8f",
   "metadata": {},
   "source": [
    "##### Tags: #bruteforce, #squares"
   ]
  }
 ],
 "metadata": {
  "kernelspec": {
   "display_name": "Python 3",
   "language": "python",
   "name": "python3"
  },
  "language_info": {
   "codemirror_mode": {
    "name": "ipython",
    "version": 3
   },
   "file_extension": ".py",
   "mimetype": "text/x-python",
   "name": "python",
   "nbconvert_exporter": "python",
   "pygments_lexer": "ipython3",
   "version": "3.13.1"
  }
 },
 "nbformat": 4,
 "nbformat_minor": 5
}
