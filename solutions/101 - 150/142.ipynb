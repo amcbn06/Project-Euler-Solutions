{
 "cells": [
  {
   "cell_type": "markdown",
   "id": "759fbef0",
   "metadata": {},
   "source": [
    "## Problem #142: Perfect Square Collection\n",
    "[Link to Problem](https://projecteuler.net/problem=142)\n",
    "\n",
    "### Problem Description\n",
    "\n",
    "Find the smallest $x + y + z$ with integers $x \\gt y \\gt z \\gt 0$ such that $x + y$, $x - y$, $x + z$, $x - z$, $y + z$, $y - z$ are all perfect squares."
   ]
  },
  {
   "cell_type": "markdown",
   "id": "b7858176",
   "metadata": {},
   "source": [
    "### Approach\n",
    "\n",
    "Bruteforce? It appears that when trying all triples $(x, y, z)$ with values under $limit$, no triples are found for $limit = 1100$, and when trying higher limits the execution time surpasses 1 minute (_the one minute rule_) "
   ]
  },
  {
   "cell_type": "code",
   "execution_count": 7,
   "id": "b8970b4b",
   "metadata": {},
   "outputs": [],
   "source": [
    "limit = 1100\n",
    "\n",
    "def is_square(x: int) -> bool:\n",
    "      return int(x ** 0.5) ** 2 == x\n",
    "\n",
    "for x in range(1, limit + 1):\n",
    "    for y in range(1, x):\n",
    "            for z in range(1, y):\n",
    "                if is_square(x - y) and is_square(x - z) and is_square(y - z) and is_square(x + y) and is_square(x + z) and is_square(y + z):\n",
    "                    print(x, y, z, x + y + z)\n"
   ]
  },
  {
   "cell_type": "markdown",
   "id": "a16cebd2",
   "metadata": {},
   "source": [
    "We can prove that $(x, y)$ are part of a Pythagorean triple:\n",
    "\n",
    "$$\n",
    "\n",
    "x + y = p^2 \\\\[5pt]\n",
    "x - y = q^2 \\\\[5pt]\n",
    "(p + q)^2 = p^2 + 2pq + q^2 \\\\[5pt]\n",
    "2pq = \\sqrt{(x + y)(x - y)} = \\sqrt{x^2 - y^2} \\\\[5pt]\n",
    "\\Rightarrow x^2 - y^2 = n^2, \\; n \\text{ integer} \\\\[5pt]\n",
    "\\Rightarrow n^2 + y^2 = x^2\n",
    "\n",
    "$$\n",
    "\n",
    "Following the same process, we can also prove that $(x, z)$ and $(y, z)$ are part of a Pythagorean triple. Therefore we can find all the Pythagorean triples up until a limit, add \"edges\" between the first two numbers from the triple and search for a cycle of size 3 in the constructed graph.\n",
    "\n",
    "**PS:** Euclid's formula for any Pythagorean triple:\n",
    "\n",
    "$$\n",
    "\n",
    "\\text{Let } x^2 = y^2 + a^2 \\\\[5pt]\n",
    "a = m^2 - n^2 \\\\[5pt]\n",
    "y = 2mn \\\\[5pt]\n",
    "x = m^2 + n^2\n",
    "\n",
    "$$"
   ]
  },
  {
   "cell_type": "code",
   "execution_count": null,
   "id": "6290728d",
   "metadata": {},
   "outputs": [
    {
     "name": "stdout",
     "output_type": "stream",
     "text": [
      "Number of links: 391840\n",
      "Found triple: (434657, 420968, 150568), x + y + z = 1006193\n"
     ]
    }
   ],
   "source": [
    "def search_triples(limit):\n",
    "    links = [set() for _ in range(limit + 1)]\n",
    "\n",
    "    link_count = 0\n",
    "\n",
    "    for m in range(1, int(limit ** 0.5) + 1):\n",
    "        # Make sure n <= m and x <= limit\n",
    "        for n in range(1, min(int((limit - m * m) ** 0.5) + 1, m)):\n",
    "            a = m * m - n * n\n",
    "            y = 2 * m * n\n",
    "            x = m * m + n * n\n",
    "            if x * x == y * y + a * a:\n",
    "                # x + y and x - y will always be squares\n",
    "                links[x].add(y)\n",
    "                link_count += 1\n",
    "\n",
    "    print(\"Number of links:\", link_count)\n",
    "\n",
    "    for x in range(limit + 1):\n",
    "        for y in links[x]:\n",
    "            for z in links[y]:\n",
    "                if z in links[x]:\n",
    "                    print(f\"Found triple: ({x}, {y}, {z}), x + y + z = {x + y + z}\")\n",
    "                    return\n",
    "\n",
    "search_triples(1000000)"
   ]
  },
  {
   "cell_type": "markdown",
   "id": "4ea0f447",
   "metadata": {},
   "source": [
    "###### Result: **1006193** | Execution time: 1s"
   ]
  },
  {
   "cell_type": "markdown",
   "id": "97cfc915",
   "metadata": {},
   "source": [
    "### Complexity analysis\n",
    "\n",
    "Time complexity: $O(limit)$ (see [problem 139](../101%20-%20150/139.ipynb) for a more detailed explaination)"
   ]
  },
  {
   "cell_type": "markdown",
   "id": "46190a8f",
   "metadata": {},
   "source": [
    "##### Tags: #factorials"
   ]
  }
 ],
 "metadata": {
  "kernelspec": {
   "display_name": "Python 3",
   "language": "python",
   "name": "python3"
  },
  "language_info": {
   "codemirror_mode": {
    "name": "ipython",
    "version": 3
   },
   "file_extension": ".py",
   "mimetype": "text/x-python",
   "name": "python",
   "nbconvert_exporter": "python",
   "pygments_lexer": "ipython3",
   "version": "3.13.1"
  }
 },
 "nbformat": 4,
 "nbformat_minor": 5
}
