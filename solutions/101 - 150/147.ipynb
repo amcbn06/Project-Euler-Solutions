{
 "cells": [
  {
   "cell_type": "markdown",
   "id": "759fbef0",
   "metadata": {},
   "source": [
    "## Problem #147: Rectangles in Cross-hatched Grids\n",
    "[Link to Problem](https://projecteuler.net/problem=147)\n",
    "\n",
    "### Problem Description\n",
    "\n",
    "In a $3 \\times 2$ cross-hatched grid, a total of $37$ different rectangles could be situated within that grid as indicated in the sketch.\n",
    "\n",
    "![image](https://projecteuler.net/resources/images/0147.png?1678992052)\n",
    "\n",
    "There are $5$ grids smaller than $3 \\times 2$, vertical and horizontal dimensions being important, i.e. $1 \\times 1$, $2 \\times 1$, $3 \\times 1$, $1 \\times 2$ and $2 \\times 2$. If each of them is cross-hatched, the following number of different rectangles could be situated within those smaller grids:\n",
    "\n",
    "| $1 \\times 1$  | $1$    |\n",
    "| -------- | ------- |\n",
    "| $2 \\times 1$  | $4$    |\n",
    "| $3 \\times 1$  | $8$    |\n",
    "| $1 \\times 2$  | $4$    |\n",
    "| $2 \\times 2$  | $18$    |\n",
    "\n",
    "Adding those to the $37$ of the $3 \\times 2$ grid, a total of $72$ different rectangles could be situated within $3 \\times 2$ and smaller grids.\n",
    "\n",
    "How many different rectangles could be situated within $47 \\times 43$ and smaller grids?"
   ]
  },
  {
   "cell_type": "markdown",
   "id": "b7858176",
   "metadata": {},
   "source": [
    "### Approach\n",
    "\n",
    "Let $M = 47$ (number of columns of the grid) and $N = 43$ (number of rows of the grid).\n",
    "\n",
    "The rectangles with sides parallel to the axes are easy to count; for a grid of size $M \\times N$, the number of such rectangles is:\n",
    "\n",
    "$$\n",
    "\n",
    "\\text{count}_{straight} = \\sum\\limits_{h=1}^{N} \\sum\\limits_{w=1}^{M} (N - h + 1)(M - w + 1) = \\frac{1}{4}N(N+1)M(M+1)\n",
    "\n",
    "$$\n",
    "\n",
    "To count the diagonal rectangles it's trickier. One interesting way to count them is to imagine that each diagonal rectangle has a bounding box with the sides parallel to the axes. If we can find out how many possible rectangles can fit in a bounding box of any size, we can just iterate over the dimensions of the bounding box and thus solve the problem.\n",
    "\n",
    "Due to the fact that all the lines are either parallel to the sides or at a $45^\\circ$ angle, all the bounding boxes are actually squares! Let's add extra horizontal and vertical lines and let's look at some examples:\n",
    "\n",
    "\n",
    "![Example 1](147_example_1.png)\n",
    "![Example 2](147_example_2.png)\n",
    "![Example 3](147_example_3.png)\n",
    "![Example 4.1](147_example_4_1.png)\n",
    "![Example 4.2](147_example_4_2.png)\n",
    "\n",
    "Let  $f(k)$ be the *average* number of rectangles that can fit in a bounding box of size $k$ ($k \\leq 2min(N, M)$). Why do we care about the average? Because as we see the number of rectangles varies by 1, which is troublesome, but if we can pair every two different bounding boxes and reach an average, the calculations become easy. It appears that:\n",
    "\n",
    "$$\n",
    "\n",
    "f(k) = \\frac{k - 1}{2}\n",
    "\n",
    "$$\n",
    "\n",
    "For example, $f(1) = 0$, $f(2) = 0.5$, $f(3) = 1$, $f(4) = 1.5$, $f(5) = 2$. Therefore we can compute the number of diagonal rectangles based on this.\n",
    "\n",
    "$$\n",
    "\n",
    "\\text{count}_{diagonal} = \\sum\\limits_{k=1}^{2min(N, M)} (2N - k + 1)(2M - k + 1)f(k)\n",
    "\n",
    "$$\n",
    "\n",
    "Now there is a caveat: when k is even, the result we get is actually bigger with $0.5$ than it should actually be because the first top-left corner square of size k has no pair for i. Therefore we have to substract $0.5$ from the answer for every even k."
   ]
  },
  {
   "cell_type": "code",
   "execution_count": 15,
   "id": "b8970b4b",
   "metadata": {},
   "outputs": [
    {
     "name": "stdout",
     "output_type": "stream",
     "text": [
      "846910284\n"
     ]
    }
   ],
   "source": [
    "M, N = 47, 43\n",
    "\n",
    "def f(k):\n",
    "    return (k - 1) / 2\n",
    "\n",
    "total = 0\n",
    "\n",
    "for n in range(1, N + 1):\n",
    "    for m in range(1, M + 1):\n",
    "        straight = n * (n + 1) * m * (m + 1) // 4\n",
    "        diagonal = 0\n",
    "        for k in range(1, 2 * min(n, m) + 1):\n",
    "            count = (2 * n - k + 1) * (2 * m - k + 1)\n",
    "            diagonal += int(count * f(k))\n",
    "        total += straight + diagonal\n",
    "\n",
    "print(total)"
   ]
  },
  {
   "cell_type": "markdown",
   "id": "4ea0f447",
   "metadata": {},
   "source": [
    "###### Result: **846910284** | Execution time: 0s"
   ]
  },
  {
   "cell_type": "markdown",
   "id": "97cfc915",
   "metadata": {},
   "source": [
    "### Complexity analysis\n",
    "\n",
    "Time complexity: $O(NMmin(N,M))$"
   ]
  },
  {
   "cell_type": "markdown",
   "id": "46190a8f",
   "metadata": {},
   "source": [
    "##### Tags: #geometry, #counting, #math"
   ]
  }
 ],
 "metadata": {
  "kernelspec": {
   "display_name": "Python 3",
   "language": "python",
   "name": "python3"
  },
  "language_info": {
   "codemirror_mode": {
    "name": "ipython",
    "version": 3
   },
   "file_extension": ".py",
   "mimetype": "text/x-python",
   "name": "python",
   "nbconvert_exporter": "python",
   "pygments_lexer": "ipython3",
   "version": "3.13.1"
  }
 },
 "nbformat": 4,
 "nbformat_minor": 5
}
