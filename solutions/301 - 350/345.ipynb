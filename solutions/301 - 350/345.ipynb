{
 "cells": [
  {
   "cell_type": "markdown",
   "id": "759fbef0",
   "metadata": {},
   "source": [
    "## Problem #345: Matrix Sum\n",
    "[Link to Problem](https://projecteuler.net/problem=345)\n",
    "\n",
    "### Problem Description\n",
    "\n",
    "<p>We define the <dfn>Matrix Sum</dfn> of a matrix as the maximum possible sum of matrix elements such that none of the selected elements share the same row or column.</p>\n",
    "\n",
    "<p>For example, the Matrix Sum of the matrix below equals 3315 ( = 863 + 383 + 343 + 959 + 767):</p>\n",
    "\n",
    "<p style=\"text-align:center;font-family:'courier new';\">\n",
    "  7  53 183 439 <span style=\"color:#00ff00;font-family:'courier new';\"><b>863</b></span><br>\n",
    "497 <span style=\"color:#00ff00;font-family:'courier new';\"><b>383</b></span> 563  79 973<br>\n",
    "287  63 <span style=\"color:#00ff00;font-family:'courier new';\"><b>343</b></span> 169 583<br>\n",
    "627 343 773 <span style=\"color:#00ff00;font-family:'courier new';\"><b>959</b></span> 943<br><span style=\"color:#00ff00;font-family:'courier new';\"><b>767</b></span> 473 103 699 303<br></p>\n",
    "\n",
    "<p>\n",
    "Find the Matrix Sum of:<br></p>\n",
    "<p style=\"text-align:center;font-family:'courier new';\">\n",
    "  7  53 183 439 863 497 383 563  79 973 287  63 343 169 583<br>\n",
    "627 343 773 959 943 767 473 103 699 303 957 703 583 639 913<br>\n",
    "447 283 463  29  23 487 463 993 119 883 327 493 423 159 743<br>\n",
    "217 623   3 399 853 407 103 983  89 463 290 516 212 462 350<br>\n",
    "960 376 682 962 300 780 486 502 912 800 250 346 172 812 350<br>\n",
    "870 456 192 162 593 473 915  45 989 873 823 965 425 329 803<br>\n",
    "973 965 905 919 133 673 665 235 509 613 673 815 165 992 326<br>\n",
    "322 148 972 962 286 255 941 541 265 323 925 281 601  95 973<br>\n",
    "445 721  11 525 473  65 511 164 138 672  18 428 154 448 848<br>\n",
    "414 456 310 312 798 104 566 520 302 248 694 976 430 392 198<br>\n",
    "184 829 373 181 631 101 969 613 840 740 778 458 284 760 390<br>\n",
    "821 461 843 513  17 901 711 993 293 157 274  94 192 156 574<br>\n",
    " 34 124   4 878 450 476 712 914 838 669 875 299 823 329 699<br>\n",
    "815 559 813 459 522 788 168 586 966 232 308 833 251 631 107<br>\n",
    "813 883 451 509 615  77 281 613 459 205 380 274 302  35 805<br></p>"
   ]
  },
  {
   "cell_type": "markdown",
   "id": "b7858176",
   "metadata": {},
   "source": [
    "### Approach\n",
    "\n",
    "Basically we pick from each row an element and at the end no two such elements should be on the same column. Every valid matrix sum can be expressed as a permutation $P$, meaning we pick elements from cells $(1, P_1)$, $(2, P_2)$ and so on. If we bruteforce the permutations we gen time complexity $O(n!)$, which is too slow for a matrix of size $15 \\times 15$.\n",
    "\n",
    "A faster approach we can take is to use **dynamic programming**: $dp[i][mask]$ = the maximum sum we can get from the first $i$ rows choosing one element from each column included as a bit in $mask$. Thus we gen complexity $O(n \\ 2^n)$"
   ]
  },
  {
   "cell_type": "code",
   "execution_count": 4,
   "id": "b8970b4b",
   "metadata": {},
   "outputs": [
    {
     "name": "stdout",
     "output_type": "stream",
     "text": [
      "13938\n"
     ]
    }
   ],
   "source": [
    "matrix = \"  7  53 183 439 863 497 383 563  79 973 287  63 343 169 583\\n\" \\\n",
    "        \"627 343 773 959 943 767 473 103 699 303 957 703 583 639 913\\n\" \\\n",
    "        \"447 283 463  29  23 487 463 993 119 883 327 493 423 159 743\\n\" \\\n",
    "        \"217 623   3 399 853 407 103 983  89 463 290 516 212 462 350\\n\" \\\n",
    "        \"960 376 682 962 300 780 486 502 912 800 250 346 172 812 350\\n\" \\\n",
    "        \"870 456 192 162 593 473 915  45 989 873 823 965 425 329 803\\n\" \\\n",
    "        \"973 965 905 919 133 673 665 235 509 613 673 815 165 992 326\\n\" \\\n",
    "        \"322 148 972 962 286 255 941 541 265 323 925 281 601  95 973\\n\" \\\n",
    "        \"445 721  11 525 473  65 511 164 138 672  18 428 154 448 848\\n\" \\\n",
    "        \"414 456 310 312 798 104 566 520 302 248 694 976 430 392 198\\n\" \\\n",
    "        \"184 829 373 181 631 101 969 613 840 740 778 458 284 760 390\\n\" \\\n",
    "        \"821 461 843 513  17 901 711 993 293 157 274  94 192 156 574\\n\" \\\n",
    "        \" 34 124   4 878 450 476 712 914 838 669 875 299 823 329 699\\n\" \\\n",
    "        \"815 559 813 459 522 788 168 586 966 232 308 833 251 631 107\\n\" \\\n",
    "        \"813 883 451 509 615  77 281 613 459 205 380 274 302  35 805\"\n",
    "\n",
    "matrix = [list(map(int, line.split())) for line in matrix.splitlines()]\n",
    "\n",
    "n = len(matrix)\n",
    "\n",
    "dp = [[0 for _ in range(1 << n)] for _ in range(n)]\n",
    "\n",
    "for j in range(n):\n",
    "    dp[0][1 << j] = matrix[0][j]\n",
    "\n",
    "for i in range(n - 1):\n",
    "    for mask in range(1 << n):\n",
    "        if dp[i][mask] > 0: # valid state\n",
    "            for j in range(n): # try another bit\n",
    "                if not (mask >> j) & 1: # that is not already included\n",
    "                    dp[i + 1][mask | (1 << j)] = max(dp[i + 1][mask | (1 << j)], dp[i][mask] + matrix[i + 1][j])\n",
    "\n",
    "print(dp[-1][-1])"
   ]
  },
  {
   "cell_type": "markdown",
   "id": "4ea0f447",
   "metadata": {},
   "source": [
    "###### Result: **13938** | Execution time: ~0s"
   ]
  },
  {
   "cell_type": "markdown",
   "id": "97cfc915",
   "metadata": {},
   "source": [
    "### Complexity analysis\n",
    "\n",
    "Time complexity: $O(n^2 2^n)$\n",
    "\n",
    "Space complexity: $O(n 2^n)$"
   ]
  },
  {
   "cell_type": "markdown",
   "id": "46190a8f",
   "metadata": {},
   "source": [
    "##### Tags: #dynamic-programming, #bitmasks"
   ]
  }
 ],
 "metadata": {
  "kernelspec": {
   "display_name": "Python 3",
   "language": "python",
   "name": "python3"
  },
  "language_info": {
   "codemirror_mode": {
    "name": "ipython",
    "version": 3
   },
   "file_extension": ".py",
   "mimetype": "text/x-python",
   "name": "python",
   "nbconvert_exporter": "python",
   "pygments_lexer": "ipython3",
   "version": "3.13.1"
  }
 },
 "nbformat": 4,
 "nbformat_minor": 5
}
