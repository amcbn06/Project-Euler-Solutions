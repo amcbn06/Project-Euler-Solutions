{
 "cells": [
  {
   "cell_type": "markdown",
   "id": "759fbef0",
   "metadata": {},
   "source": [
    "## Problem #301: Nim\n",
    "[Link to Problem](https://projecteuler.net/problem=301)"
   ]
  },
  {
   "cell_type": "markdown",
   "id": "b7858176",
   "metadata": {},
   "source": [
    "### Approach\n",
    "\n",
    "We can let the solution bruteforce all the numbers and it should take ~4 minutes or we can notice that for increasing powers of two the number of valid values for $n$ is the $(n+2)^{th}$ element of the Fibonacci sequence."
   ]
  },
  {
   "cell_type": "code",
   "execution_count": 23,
   "id": "b8970b4b",
   "metadata": {},
   "outputs": [
    {
     "name": "stdout",
     "output_type": "stream",
     "text": [
      "2178309\n"
     ]
    }
   ],
   "source": [
    "exponent = 30\n",
    "\n",
    "# Bruteforce:\n",
    "# limit = 1 << exponent\n",
    "\n",
    "# count = 0\n",
    "\n",
    "# for x in range(1, limit + 1):\n",
    "#     if  x ^ (2 * x) ^ (3 * x) == 0:\n",
    "#         count += 1\n",
    "\n",
    "# print(count)\n",
    "\n",
    "fibonacci = [1, 1]\n",
    "for _ in range(exponent):\n",
    "    fibonacci.append(fibonacci[-1] + fibonacci[-2])\n",
    "print(fibonacci[-1])"
   ]
  },
  {
   "cell_type": "markdown",
   "id": "4ea0f447",
   "metadata": {},
   "source": [
    "###### Result: **2178309** | Execution time: 0s"
   ]
  },
  {
   "cell_type": "markdown",
   "id": "97cfc915",
   "metadata": {},
   "source": [
    "### Complexity analysis\n",
    "\n",
    "Time & space complexity: $O(n)$"
   ]
  },
  {
   "cell_type": "markdown",
   "id": "46190a8f",
   "metadata": {},
   "source": [
    "##### Tags: #fibonacci, #bruteforce"
   ]
  }
 ],
 "metadata": {
  "kernelspec": {
   "display_name": "Python 3",
   "language": "python",
   "name": "python3"
  },
  "language_info": {
   "codemirror_mode": {
    "name": "ipython",
    "version": 3
   },
   "file_extension": ".py",
   "mimetype": "text/x-python",
   "name": "python",
   "nbconvert_exporter": "python",
   "pygments_lexer": "ipython3",
   "version": "3.13.1"
  }
 },
 "nbformat": 4,
 "nbformat_minor": 5
}
