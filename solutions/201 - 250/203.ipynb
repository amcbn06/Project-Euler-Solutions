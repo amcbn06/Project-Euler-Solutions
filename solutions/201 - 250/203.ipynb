{
 "cells": [
  {
   "cell_type": "markdown",
   "id": "759fbef0",
   "metadata": {},
   "source": [
    "## Problem #203: Squarefree Binomial Coefficients\n",
    "[Link to Problem](https://projecteuler.net/problem=203)"
   ]
  },
  {
   "cell_type": "markdown",
   "id": "b7858176",
   "metadata": {},
   "source": [
    "### Approach\n",
    "\n",
    "- idea 1\n",
    "- idea 2"
   ]
  },
  {
   "cell_type": "code",
   "execution_count": 2,
   "id": "b8970b4b",
   "metadata": {},
   "outputs": [
    {
     "name": "stdout",
     "output_type": "stream",
     "text": [
      "34029210557338\n"
     ]
    }
   ],
   "source": [
    "max_rows = 51\n",
    "\n",
    "pascal = [[1 for j in range(i + 1)] for i in range(max_rows)]\n",
    "\n",
    "for i in range(1, max_rows):\n",
    "    for j in range(1, i):\n",
    "        pascal[i][j] = pascal[i - 1][j - 1] + pascal[i - 1][j]\n",
    "\n",
    "max_binom = max(max(row) for row in pascal)\n",
    "limit = int(max_binom ** 0.5)\n",
    "\n",
    "is_prime = [True] * (limit + 1)\n",
    "is_prime[0] = is_prime[1] = False\n",
    "for i in range(2, int(limit ** 0.5) + 1):\n",
    "    if is_prime[i]:\n",
    "        for j in range(i * i, limit + 1, i):\n",
    "            is_prime[j] = False\n",
    "\n",
    "primes = [i for i, val in enumerate(is_prime) if val]\n",
    "\n",
    "unique_binom = set()\n",
    "\n",
    "for row in pascal:\n",
    "    for x in row:\n",
    "        square_free = True\n",
    "        for p in primes:\n",
    "            if p * p > x:\n",
    "                break\n",
    "            if x % (p * p) == 0:\n",
    "                square_free = False\n",
    "                break\n",
    "        if square_free:\n",
    "            unique_binom.add(x)\n",
    "\n",
    "print(sum(unique_binom))  "
   ]
  },
  {
   "cell_type": "markdown",
   "id": "4ea0f447",
   "metadata": {},
   "source": [
    "###### Result: **34029210557338** | Execution time: ~4s"
   ]
  },
  {
   "cell_type": "markdown",
   "id": "97cfc915",
   "metadata": {},
   "source": [
    "### Complexity analysis\n",
    "\n",
    "The Pascal triangle construction is $O(n^2)$.\n",
    "\n",
    "The maximum number on the n-th row on the Pascal triangle is of the order $O(\\frac{2^n}{\\sqrt{n}})$ (had to use a llm for this one).\n",
    "\n",
    "The sieve runs in $O(\\sqrt{\\frac{2^n}{\\sqrt{n}}}) = O(2^{\\frac{n}{2}} n^{-\\frac{1}{4}})$\n",
    "\n",
    "Things are already getting complicated, but basically the program runs fast enough, so that's what matters 🙂."
   ]
  },
  {
   "cell_type": "markdown",
   "id": "46190a8f",
   "metadata": {},
   "source": [
    "##### Tags: #pascal-triangle, #binomials, #factorization"
   ]
  }
 ],
 "metadata": {
  "kernelspec": {
   "display_name": "Python 3",
   "language": "python",
   "name": "python3"
  },
  "language_info": {
   "codemirror_mode": {
    "name": "ipython",
    "version": 3
   },
   "file_extension": ".py",
   "mimetype": "text/x-python",
   "name": "python",
   "nbconvert_exporter": "python",
   "pygments_lexer": "ipython3",
   "version": "3.13.1"
  }
 },
 "nbformat": 4,
 "nbformat_minor": 5
}
