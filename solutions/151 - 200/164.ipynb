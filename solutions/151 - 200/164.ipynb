{
 "cells": [
  {
   "cell_type": "markdown",
   "id": "759fbef0",
   "metadata": {},
   "source": [
    "## Problem #164: Three Consecutive Digital Sum Limit\n",
    "[Link to Problem](https://projecteuler.net/problem=164)\n",
    "\n",
    "### Problem Description\n",
    "\n",
    "How many $20$ digit numbers $n$ (without any leading zero) exist such that no three consecutive digits of $n$ have a sum greater than $9$?"
   ]
  },
  {
   "cell_type": "markdown",
   "id": "b7858176",
   "metadata": {},
   "source": [
    "### Approach\n",
    "\n",
    "We can count the number of numbers that satisfy the property using **dynamic programming**. We have the $dp[len][a][b][c]$ = the number of numbers that satisfy the property with length $len$ and the last the digits are $ \\overline{abc}$. The reccurence is easy to come up with."
   ]
  },
  {
   "cell_type": "code",
   "execution_count": 8,
   "id": "b8970b4b",
   "metadata": {},
   "outputs": [
    {
     "name": "stdout",
     "output_type": "stream",
     "text": [
      "378158756814587\n"
     ]
    }
   ],
   "source": [
    "L = 20\n",
    "\n",
    "dp = [[[[0 for _ in range(10)] for _ in range(10)] for _ in range(10)] for _ in range(L + 1)]\n",
    "\n",
    "for i in range(100, 1000):\n",
    "    a, b, c = i // 100, i // 10 % 10, i % 10\n",
    "    if a + b + c <= 9:\n",
    "        dp[3][a][b][c] = 1\n",
    "\n",
    "for len in range(4, L + 1):\n",
    "    for a in range(10):\n",
    "        for b in range(10):\n",
    "            for c in range(10):\n",
    "                for d in range(10):\n",
    "                    if b + c + d <= 9:\n",
    "                        dp[len][b][c][d] += dp[len - 1][a][b][c]\n",
    "\n",
    "count = 0\n",
    "\n",
    "for a in range(10):\n",
    "    for b in range(10):\n",
    "        for c in range(10):\n",
    "            count += dp[L][a][b][c]\n",
    "\n",
    "print(count)"
   ]
  },
  {
   "cell_type": "markdown",
   "id": "4ea0f447",
   "metadata": {},
   "source": [
    "###### Result: **378158756814587** | Execution time: 0s"
   ]
  },
  {
   "cell_type": "markdown",
   "id": "97cfc915",
   "metadata": {},
   "source": [
    "### Complexity analysis\n",
    "\n",
    "Time complexity: $O(L * 10^4)$\n",
    "\n",
    "Space complexity: $O(L * 10^3)$"
   ]
  },
  {
   "cell_type": "markdown",
   "id": "46190a8f",
   "metadata": {},
   "source": [
    "##### Tags: #dynamic-programming"
   ]
  }
 ],
 "metadata": {
  "kernelspec": {
   "display_name": "Python 3",
   "language": "python",
   "name": "python3"
  },
  "language_info": {
   "codemirror_mode": {
    "name": "ipython",
    "version": 3
   },
   "file_extension": ".py",
   "mimetype": "text/x-python",
   "name": "python",
   "nbconvert_exporter": "python",
   "pygments_lexer": "ipython3",
   "version": "3.13.1"
  }
 },
 "nbformat": 4,
 "nbformat_minor": 5
}
