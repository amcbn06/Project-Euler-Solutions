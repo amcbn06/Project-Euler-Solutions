{
 "cells": [
  {
   "cell_type": "markdown",
   "id": "759fbef0",
   "metadata": {},
   "source": [
    "## Problem #200: Prime-proof Squbes\n",
    "[Link to Problem](https://projecteuler.net/problem=200)\n",
    "\n",
    "### Problem Description\n",
    "\n",
    "We shall define a sqube to be a number of the form, $p^2 q^3$, where $p$ and $q$ are distinct primes.\n",
    "\n",
    "For example, $200 = 5^2 2^3$ or $120072949 = 23^2 61^3$.\n",
    "\n",
    "The first five squbes are $72, 108, 200, 392$, and $500$.\n",
    "\n",
    "Interestingly, $200$ is also the first number for which you cannot change any single digit to make a prime; we shall call such numbers, prime-proof. The next prime-proof sqube which contains the contiguous sub-string \"$200$\" is $1992008$.\n",
    "\n",
    "Find the $200^{th}$ prime-proof sqube containing the contiguous sub-string \"$200$\"."
   ]
  },
  {
   "cell_type": "markdown",
   "id": "b7858176",
   "metadata": {},
   "source": [
    "### Approach\n",
    "\n",
    "First we can generate all the squbes under a limit $L$.\n",
    "\n",
    "If $p^2q^3 \\leq L$, then $p \\leq \\sqrt{L}$, $q \\leq \\sqrt[3]{L}$. Therefore we need to precompute all the primes $\\leq \\sqrt{L}$.\n"
   ]
  },
  {
   "cell_type": "code",
   "execution_count": 3,
   "id": "29d2ac53",
   "metadata": {},
   "outputs": [],
   "source": [
    "def precompute_primes(limit):\n",
    "    sieve = [True] * (limit + 1)\n",
    "    sieve[0] = sieve[1] = False\n",
    "    for i in range(2, int(limit ** 0.5) + 1):\n",
    "        if sieve[i]:\n",
    "            for j in range(i * i, limit + 1, i):\n",
    "                sieve[j] = False\n",
    "    return [index for index, value in enumerate(sieve) if value]\n",
    "\n",
    "def is_prime(x):\n",
    "    if x < 2:\n",
    "        return False\n",
    "    for i in range(2, int(x ** 0.5) + 1):\n",
    "        if x % i == 0:\n",
    "            return False\n",
    "    return True\n",
    "\n",
    "def is_prime_proof(x):\n",
    "    for i in range(len(str(x))):\n",
    "        t = 10 ** i\n",
    "        y = x - (x // t % 10) * t \n",
    "        for d in range(10):\n",
    "            if y + d * t != x and is_prime(y + d * t):\n",
    "                return False\n",
    "    return True"
   ]
  },
  {
   "cell_type": "code",
   "execution_count": 12,
   "id": "b8970b4b",
   "metadata": {},
   "outputs": [
    {
     "name": "stdout",
     "output_type": "stream",
     "text": [
      "Number of prime-proof 200-containing squbes under 1000000000000: 332\n",
      "229161792008\n"
     ]
    }
   ],
   "source": [
    "L = 10 ** 12\n",
    "\n",
    "primes = precompute_primes(int(L ** 0.5))\n",
    "\n",
    "assert primes[:5] == [2, 3, 5, 7, 11]\n",
    "\n",
    "squbes = []\n",
    "\n",
    "# Generate all the squbes <= L\n",
    "for p in primes:\n",
    "    for q in primes:\n",
    "        if p == q:\n",
    "            continue\n",
    "        x = p * p * q * q * q\n",
    "        if x > L:\n",
    "            break\n",
    "        # Append to the squbes list only if it contains \"200\" and is prime-proof\n",
    "        if \"200\" in str(x) and is_prime_proof(x):\n",
    "            squbes.append(x)\n",
    "\n",
    "squbes.sort()\n",
    "\n",
    "assert len(squbes) >= 200\n",
    "assert squbes[:2] == [200, 1992008]\n",
    "\n",
    "print(f\"Number of prime-proof 200-containing squbes under {L}: {len(squbes)}\")\n",
    "print(squbes[199])"
   ]
  },
  {
   "cell_type": "markdown",
   "id": "4ea0f447",
   "metadata": {},
   "source": [
    "###### Result: **229161792008** | Execution time: ~17s"
   ]
  },
  {
   "cell_type": "markdown",
   "id": "46190a8f",
   "metadata": {},
   "source": [
    "##### Tags: #implementation, #bruteforce, #primes"
   ]
  }
 ],
 "metadata": {
  "kernelspec": {
   "display_name": "Python 3",
   "language": "python",
   "name": "python3"
  },
  "language_info": {
   "codemirror_mode": {
    "name": "ipython",
    "version": 3
   },
   "file_extension": ".py",
   "mimetype": "text/x-python",
   "name": "python",
   "nbconvert_exporter": "python",
   "pygments_lexer": "ipython3",
   "version": "3.13.1"
  }
 },
 "nbformat": 4,
 "nbformat_minor": 5
}
