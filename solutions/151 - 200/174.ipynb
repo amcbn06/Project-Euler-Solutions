{
 "cells": [
  {
   "cell_type": "markdown",
   "id": "759fbef0",
   "metadata": {},
   "source": [
    "## Problem #174: Hollow Square Laminae II\n",
    "[Link to Problem](https://projecteuler.net/problem=174)\n",
    "\n",
    "### Problem Description\n",
    "\n",
    "We shall define a square lamina to be a square outline with a square \"hole\" so that the shape possesses vertical and horizontal symmetry.\n",
    "\n",
    "Given eight tiles it is possible to form a lamina in only one way: $3 \\times 3$ square with a $1 \\times 1$ hole in the middle. However, using thirty-two tiles it is possible to form two distinct laminae.\n",
    "\n",
    "![example](https://projecteuler.net/resources/images/0173_square_laminas.gif?1678992055)\n",
    "\n",
    "If $t$ represents the number of tiles used, we shall say that $t = 8$ is type $L(1)$ and $t = 32$ is type $L(2)$.\n",
    "\n",
    "Let $N(n)$ be the number of $t \\le 1000000$ such that $t$ is type $L(n)$; for example, $N(15) = 832$.\n",
    "\n",
    "What is $\\sum\\limits_{n = 1}^{10} N(n)$?"
   ]
  },
  {
   "cell_type": "markdown",
   "id": "b7858176",
   "metadata": {},
   "source": [
    "### Approach\n",
    "\n",
    "Let $a$ = the side of the outer square and $b$ = the side of the inner square.\n",
    "\n",
    "$$\n",
    "\n",
    "t = a^2 - b^2 = (a - b)(a + b)\n",
    "\n",
    "$$\n",
    "\n",
    "Also, $a$ and $b$ should have the same parity.\n",
    "\n",
    "Therefore we can iterate $a$ from 1 to $10^6$ then iterate $b$ from $a - 2$ to $1$ and once $t$ becomes too big we stop iterating $b$ and try the next $a$."
   ]
  },
  {
   "cell_type": "code",
   "execution_count": 1,
   "id": "b8970b4b",
   "metadata": {},
   "outputs": [
    {
     "name": "stdout",
     "output_type": "stream",
     "text": [
      "209566\n"
     ]
    }
   ],
   "source": [
    "limit = 1_000_000\n",
    "\n",
    "ways = [0] * (limit + 1)\n",
    "\n",
    "for a in range(3, limit + 1):\n",
    "    for b in range(a - 2,  0, -2):\n",
    "        t = a * a - b * b\n",
    "        if t > limit:\n",
    "            break\n",
    "        ways[t] += 1\n",
    "\n",
    "answer = 0\n",
    "\n",
    "for t in range(1, limit + 1):\n",
    "    if 1 <= ways[t] <= 10:\n",
    "        answer += 1\n",
    "\n",
    "print(answer)"
   ]
  },
  {
   "cell_type": "markdown",
   "id": "4ea0f447",
   "metadata": {},
   "source": [
    "###### Result: **209566** | Execution time: 1s"
   ]
  },
  {
   "cell_type": "markdown",
   "id": "97cfc915",
   "metadata": {},
   "source": [
    "### Complexity analysis\n",
    "\n",
    "Time complexity: $O(limit * \\log{limit})$ ???"
   ]
  },
  {
   "cell_type": "code",
   "execution_count": null,
   "id": "88672b4b",
   "metadata": {},
   "outputs": [],
   "source": []
  },
  {
   "cell_type": "markdown",
   "id": "46190a8f",
   "metadata": {},
   "source": [
    "##### Tags: #math, #squares, #number-theory"
   ]
  }
 ],
 "metadata": {
  "kernelspec": {
   "display_name": "Python 3",
   "language": "python",
   "name": "python3"
  },
  "language_info": {
   "codemirror_mode": {
    "name": "ipython",
    "version": 3
   },
   "file_extension": ".py",
   "mimetype": "text/x-python",
   "name": "python",
   "nbconvert_exporter": "python",
   "pygments_lexer": "ipython3",
   "version": "3.13.1"
  }
 },
 "nbformat": 4,
 "nbformat_minor": 5
}
