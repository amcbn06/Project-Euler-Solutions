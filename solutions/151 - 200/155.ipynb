{
 "cells": [
  {
   "cell_type": "markdown",
   "id": "759fbef0",
   "metadata": {},
   "source": [
    "## Problem #155: Counting Capacitor Circuits\n",
    "[Link to Problem](https://projecteuler.net/problem=155)\n",
    "\n",
    "### Problem Description\n",
    "\n",
    "Given $n$ idential capacitors, let $D(n)$ be the number of distinct total capacitance values we can obtain when using up to $n$ equal-valued capacitors.\n",
    "\n",
    "For example, $D(1) = 1$, $D(2) = 3$, $D(3) = 7$\n",
    "\n",
    "![For example, using up to 3 capacitors of 60 μF each, we can obtain the following distinct total capacitance values:](https://projecteuler.net/resources/images/0155_capacitors1.gif?1678992055)"
   ]
  },
  {
   "cell_type": "markdown",
   "id": "b7858176",
   "metadata": {},
   "source": [
    "### Approach\n",
    "\n",
    "Lets define what a unit of capacitors is.\n",
    "\n",
    "A unit $U$ of capacitors is either:\n",
    "\n",
    "1. a capacitor\n",
    "2. two sub-units $u_1$ and $u_2$ connected in parallel: $$ C = c_1 + c_2 $$\n",
    "3. two sub-units $u_1$ and $u_2$ connected in series: $$ \\frac{1}{C} = \\frac{1}{c_1} + \\frac{1}{c_2} $$\n",
    "\n",
    "Therefore if for a unit $U$ of size $n$ we can find out all the possible values of its capacitance by:\n",
    "\n",
    "- iterating how many capacitors does $u_1$ have\n",
    "- trying each possible capacitance value for $c_1$ and $c_2$\n",
    "\n",
    "This method is basically **dynamic programming**.\n",
    "\n",
    "We compute $d(n)$ = the number of unique capacitance values we can obtain when using **exactly** $n$ identical capacitors.\n",
    "\n",
    "We do this by first computing $C(n)$, the actual list of the capacitances. Then to compute $D(n)$ we just take the cardinal of the union of all $C(n)$, $n \\leq 18$"
   ]
  },
  {
   "cell_type": "code",
   "execution_count": 1,
   "id": "95c19cc7",
   "metadata": {},
   "outputs": [],
   "source": [
    "# Fraction class for rational arithmetic\n",
    "from math import gcd\n",
    "\n",
    "class Fraction:\n",
    "    def __init__(self, numerator, denominator):\n",
    "        self.numerator = numerator\n",
    "        self.denominator = denominator\n",
    "        self.simplify()\n",
    "\n",
    "    def simplify(self):\n",
    "        common_divisor = gcd(self.numerator, self.denominator)\n",
    "        self.numerator //= common_divisor\n",
    "        self.denominator //= common_divisor\n",
    "\n",
    "    def __add__(self, other):\n",
    "        new_numerator = self.numerator * other.denominator + other.numerator * self.denominator\n",
    "        new_denominator = self.denominator * other.denominator\n",
    "        return Fraction(new_numerator, new_denominator)\n",
    "\n",
    "    def __mul__(self, other):\n",
    "        new_numerator = self.numerator * other.numerator\n",
    "        new_denominator = self.denominator * other.denominator\n",
    "        return Fraction(new_numerator, new_denominator)\n",
    "\n",
    "    def __truediv__(self, other):\n",
    "        new_numerator = self.numerator * other.denominator\n",
    "        new_denominator = self.denominator * other.numerator\n",
    "        return Fraction(new_numerator, new_denominator)\n",
    "\n",
    "    def __str__(self):\n",
    "        return f\"{self.numerator}/{self.denominator}\"\n",
    "\n",
    "    def __eq__(self, other):\n",
    "        return self.numerator == other.numerator and self.denominator == other.denominator\n",
    "\n",
    "    def __hash__(self):\n",
    "        return hash((self.numerator, self.denominator))"
   ]
  },
  {
   "cell_type": "code",
   "execution_count": 2,
   "id": "b8970b4b",
   "metadata": {},
   "outputs": [],
   "source": [
    "# Compute C(n)\n",
    "limit = 18\n",
    "\n",
    "C = [set() for _ in range(limit + 1)]\n",
    "\n",
    "C[1].add(Fraction(1, 1))\n",
    "\n",
    "for n in range(2, limit + 1):\n",
    "    for u1 in range(1, n // 2 + 1):\n",
    "        u2 = n - u1\n",
    "        for c1 in C[u1]:\n",
    "            for c2 in C[u2]:\n",
    "                # Connected in parallel\n",
    "                C[n].add(c1 + c2)\n",
    "                # Connected in series\n",
    "                C[n].add(c1 *  c2 / (c1 + c2))"
   ]
  },
  {
   "cell_type": "code",
   "execution_count": null,
   "id": "4f6c2bca",
   "metadata": {},
   "outputs": [],
   "source": [
    "# Compute D(n)\n",
    "common = set()\n",
    "\n",
    "D = [0] * (limit + 1)\n",
    "\n",
    "for i in range(1, limit + 1):\n",
    "    common = common.union(C[i])\n",
    "    D[i] = len(common)\n",
    "\n",
    "print(D[limit])"
   ]
  },
  {
   "cell_type": "markdown",
   "id": "4ea0f447",
   "metadata": {},
   "source": [
    "###### Result: **3857447** | Execution time: ~60s"
   ]
  },
  {
   "cell_type": "markdown",
   "id": "97cfc915",
   "metadata": {},
   "source": [
    "### Complexity analysis\n",
    "\n",
    "After looking at the values of D(n), it looks like $D(n)$ increases exponentially, so it seems that the time and space complexity of the program is also exponential."
   ]
  },
  {
   "cell_type": "markdown",
   "id": "46190a8f",
   "metadata": {},
   "source": [
    "##### Tags: #bruteforce, #dynamic-programming, #exponential "
   ]
  }
 ],
 "metadata": {
  "kernelspec": {
   "display_name": "Python 3",
   "language": "python",
   "name": "python3"
  },
  "language_info": {
   "codemirror_mode": {
    "name": "ipython",
    "version": 3
   },
   "file_extension": ".py",
   "mimetype": "text/x-python",
   "name": "python",
   "nbconvert_exporter": "python",
   "pygments_lexer": "ipython3",
   "version": "3.13.1"
  }
 },
 "nbformat": 4,
 "nbformat_minor": 5
}
