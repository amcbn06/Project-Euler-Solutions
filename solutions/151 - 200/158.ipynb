{
 "cells": [
  {
   "cell_type": "markdown",
   "id": "759fbef0",
   "metadata": {},
   "source": [
    "## Problem #158: Lexicographical Neighbours\n",
    "[Link to Problem](https://projecteuler.net/problem=158)\n",
    "\n",
    "### Problem Description\n",
    "\n",
    "Taking three different letters from the $26$ letters of the alphabet, character strings of length three can be formed.\n",
    "\n",
    "Examples are 'abc', 'hat' and 'zyx'.\n",
    "\n",
    "When we study these three examples we see that for 'abc' two characters come lexicographically after its neighbour to the left.\n",
    "\n",
    "For 'hat' there is exactly one character that comes lexicographically after its neighbour to the left. For 'zyx' there are zero characters that come lexicographically after its neighbour to the left.\n",
    "In all there are $10400$ strings of length $3$ for which exactly one character comes lexicographically after its neighbour to the left.\n",
    "\n",
    "We now consider strings of $n \\leq 26$ different characters from the alphabet.\n",
    "For every $n$, $p(n)$ is the number of strings of length $n$ for which exactly one character comes lexicographically after its neighbour to the left.\n",
    "\n",
    "What is the maximum value of $n$?"
   ]
  },
  {
   "cell_type": "markdown",
   "id": "b7858176",
   "metadata": {},
   "source": [
    "### Approach\n",
    "\n",
    "Let $\\sigma = 26$ (the size of the alphabet).\n",
    "\n",
    "First, we can turn every string into a permutation according to the relative order of the letters. Thus $abc$ becomes $123$, $hat$ becomes $213$ and $zyx$ becomes $321$.\n",
    "\n",
    "Then if we can find $f(n)$ = the number of valid permutations, then:\n",
    "\n",
    "$$\n",
    "\n",
    "p(n) = f(n) \\times \\binom{\\sigma}{n}\n",
    "\n",
    "$$\n",
    "\n",
    "We can further encode each permutation of length $n$ by a string of length $n - 1$ of `'<'` and `'>'`.\n",
    "\n",
    "Now $f(n)$ becomes the number of permutations whose encoding contains one occurence of `'<'`. To do this we generate each possible encoding and for a fixed encoding we can find the number of permutations that fit as explained in [this blog](https://codeforces.com/blog/entry/125175)."
   ]
  },
  {
   "cell_type": "code",
   "execution_count": 21,
   "id": "6a195ae5",
   "metadata": {},
   "outputs": [],
   "source": [
    "# Combinatorics prerequisites\n",
    "sigma = 26\n",
    "\n",
    "factorial = [1] * (sigma + 1)\n",
    "\n",
    "for i in range(2, sigma + 1):\n",
    "    factorial[i] = factorial[i - 1] * i\n",
    "\n",
    "def binom(n, k):\n",
    "    return factorial[n] // factorial[k] // factorial[n - k]"
   ]
  },
  {
   "cell_type": "code",
   "execution_count": 31,
   "id": "fabaacbd",
   "metadata": {},
   "outputs": [],
   "source": [
    "# Count the number of possible permutations fit the encoding\n",
    "def compute(encoding: str):\n",
    "    length = len(encoding) + 1\n",
    "    dp = [[0 for j in range(i + 1)] for i in range(length)]\n",
    "    # dp[i][j] = how many 0-indexed permutations of length i + 1\n",
    "    #            have the last element equal to j (j <= i)\n",
    "    dp[0][0] = 1\n",
    "    for i in range(1, length):\n",
    "        for j in range(i + 1):\n",
    "            if encoding[i - 1] == '>':\n",
    "                for k in range(j, i):\n",
    "                    dp[i][j] += dp[i -  1][k]\n",
    "            else:\n",
    "                for k in range(j):\n",
    "                    dp[i][j] += dp[i -  1][k]\n",
    "    return sum(dp[-1])"
   ]
  },
  {
   "cell_type": "code",
   "execution_count": null,
   "id": "b8970b4b",
   "metadata": {},
   "outputs": [
    {
     "name": "stdout",
     "output_type": "stream",
     "text": [
      "409511334375\n"
     ]
    }
   ],
   "source": [
    "limit = 26\n",
    "\n",
    "f = [0] * (limit + 1)\n",
    "\n",
    "for length in range(2, limit + 1):\n",
    "    encoding = '>' * (length - 1)\n",
    "    for i in range(length - 1):\n",
    "        new_encoding = encoding[:i] + '<' + encoding[i + 1:]\n",
    "        ways = compute(new_encoding)\n",
    "        # print(new_encoding, ways)\n",
    "        f[length] += ways\n",
    "\n",
    "p = [value * binom(sigma, index) for index, value in enumerate(f)]\n",
    "\n",
    "print(max(p))"
   ]
  },
  {
   "cell_type": "markdown",
   "id": "4ea0f447",
   "metadata": {},
   "source": [
    "###### Result: **409511334375** | Execution time: 0s"
   ]
  },
  {
   "cell_type": "markdown",
   "id": "97cfc915",
   "metadata": {},
   "source": [
    "### Complexity analysis\n",
    "\n",
    "- $\\sigma$ values for the length\n",
    "- $\\sigma$ encodings for a fixed length\n",
    "- $\\sigma^2$ algorithm to count the permutations for an encoding\n",
    "\n",
    "$\\Rightarrow$ Time complexity: $O(\\sigma^4)$"
   ]
  },
  {
   "cell_type": "markdown",
   "id": "46190a8f",
   "metadata": {},
   "source": [
    "##### Tags: #strings, #combinatorics, #dynamic-programming"
   ]
  }
 ],
 "metadata": {
  "kernelspec": {
   "display_name": "Python 3",
   "language": "python",
   "name": "python3"
  },
  "language_info": {
   "codemirror_mode": {
    "name": "ipython",
    "version": 3
   },
   "file_extension": ".py",
   "mimetype": "text/x-python",
   "name": "python",
   "nbconvert_exporter": "python",
   "pygments_lexer": "ipython3",
   "version": "3.13.1"
  }
 },
 "nbformat": 4,
 "nbformat_minor": 5
}
