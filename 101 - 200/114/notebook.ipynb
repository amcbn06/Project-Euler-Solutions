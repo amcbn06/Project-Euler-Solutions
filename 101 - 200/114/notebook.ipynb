{
 "cells": [
  {
   "cell_type": "markdown",
   "id": "0677bcaf",
   "metadata": {},
   "source": [
    "# Counting Block Combinations I - Problem 114"
   ]
  },
  {
   "cell_type": "markdown",
   "id": "c1d26965",
   "metadata": {},
   "source": [
    "### Solution\n",
    "\n",
    "This is a classic dynamic programming problem.\n",
    "\n",
    "Let:\n",
    "\n",
    "$ dp[n][0] = \\text{how many ways are there to fill a block of length n such that the last cell is not filled} $\n",
    "\n",
    "$ dp[n][1] = \\text{how many ways .... such that the last cell is filled} $\n",
    "\n",
    "Base cases:\n",
    "\n",
    "$ dp[0][0] = 1 ; \\; dp[0][1] = 0 $\n",
    "\n",
    "Therefore:\n",
    "\n",
    "$ dp[n][0] = dp[n - 1][0] + dp[n - 1][1] $\n",
    "\n",
    "$ dp[n][1] =  \\sum_{\\text{len} \\geq 3}^{n} dp[n - \\text{len}][0] $"
   ]
  },
  {
   "cell_type": "markdown",
   "id": "1e0cee89",
   "metadata": {},
   "source": [
    "### Solve"
   ]
  },
  {
   "cell_type": "code",
   "execution_count": 18,
   "id": "65748765",
   "metadata": {},
   "outputs": [
    {
     "name": "stdout",
     "output_type": "stream",
     "text": [
      "16475640049\n"
     ]
    }
   ],
   "source": [
    "limit = 51\n",
    "\n",
    "dp = [[0 for _ in range(2)] for _ in range(limit)]\n",
    "\n",
    "dp[0][0] = 1\n",
    "\n",
    "for i in range(1, limit):\n",
    "    dp[i][0] = dp[i - 1][0] + dp[i - 1][1]\n",
    "    for j in range(3, i + 1):\n",
    "        dp[i][1] += dp[i - j][0]\n",
    "    \n",
    "print(dp[-1][0] + dp[-1][1])"
   ]
  }
 ],
 "metadata": {
  "kernelspec": {
   "display_name": "Python 3",
   "language": "python",
   "name": "python3"
  },
  "language_info": {
   "codemirror_mode": {
    "name": "ipython",
    "version": 3
   },
   "file_extension": ".py",
   "mimetype": "text/x-python",
   "name": "python",
   "nbconvert_exporter": "python",
   "pygments_lexer": "ipython3",
   "version": "3.13.1"
  }
 },
 "nbformat": 4,
 "nbformat_minor": 5
}
