{
 "cells": [
  {
   "cell_type": "markdown",
   "id": "973b2d1a",
   "metadata": {},
   "source": [
    "# Triangle Containment - Problem 102"
   ]
  },
  {
   "cell_type": "markdown",
   "id": "c7975fb4",
   "metadata": {
    "slideshow": {
     "slide_type": "slide"
    }
   },
   "source": [
    "### Solution\n",
    "\n",
    "Let $ \\text{area}(\\Delta_{ABC}) $ denote the area of triangle $ \\Delta_{ABC} $.\n",
    "\n",
    "The origin $ O $ is inside triangle $ \\Delta_{ABC} $ if and only if:\n",
    "\n",
    "$$\n",
    "\\text{area}(\\Delta_{ABC}) = \\text{area}(\\Delta_{AOB}) + \\text{area}(\\Delta_{AOC}) + \\text{area}(\\Delta_{BOC})\n",
    "$$"
   ]
  },
  {
   "cell_type": "markdown",
   "id": "4fe2692e",
   "metadata": {},
   "source": [
    "### Create appropriate data structures and functions for the problem"
   ]
  },
  {
   "cell_type": "code",
   "execution_count": 25,
   "id": "3c5b3765",
   "metadata": {},
   "outputs": [],
   "source": [
    "# Create a class to represent a point in 2D space\n",
    "class Point:\n",
    "    def __init__(self, x, y):\n",
    "        self.x = x\n",
    "        self.y = y\n",
    "\n",
    "    def __sub__(self, other):\n",
    "        return Point(self.x - other.x, self.y - other.y)\n",
    "\n",
    "    def cross(self, other):\n",
    "        return self.x * other.y - self.y * other.x"
   ]
  },
  {
   "cell_type": "code",
   "execution_count": 26,
   "id": "47971e9f",
   "metadata": {},
   "outputs": [],
   "source": [
    "# Define a function to compute the area of a triangle given its vertices\n",
    "def area(A: Point, B: Point, C: Point) -> float:\n",
    "    return abs((B - A).cross(C - A)) / 2.0"
   ]
  },
  {
   "cell_type": "code",
   "execution_count": 27,
   "id": "a0a4ee59",
   "metadata": {},
   "outputs": [],
   "source": [
    "# Function to check if the origin is inside the triangle formed by points A, B, and C\n",
    "def is_origin_inside_triangle(A: Point, B: Point, C: Point) -> bool:\n",
    "    O = Point(0, 0)\n",
    "    return area(A, B, C) == area(A, O, B) + area(A, O, C) + area(B, O, C)"
   ]
  },
  {
   "cell_type": "markdown",
   "id": "16edddd5",
   "metadata": {},
   "source": [
    "### Load data"
   ]
  },
  {
   "cell_type": "code",
   "execution_count": 28,
   "id": "3834ed51",
   "metadata": {},
   "outputs": [],
   "source": [
    "triangles = []\n",
    "with open(r'input.txt') as f:\n",
    "    lines = f.readlines()\n",
    "    for line in lines:\n",
    "        coord = [int(x) for x in line.split(',')]\n",
    "        triangles.append((Point(coord[0], coord[1]),\n",
    "                        Point(coord[2], coord[3]),\n",
    "                        Point(coord[4], coord[5])))"
   ]
  },
  {
   "cell_type": "markdown",
   "id": "c0174dd8",
   "metadata": {},
   "source": [
    "### Solve"
   ]
  },
  {
   "cell_type": "code",
   "execution_count": 29,
   "id": "bde4b0de",
   "metadata": {},
   "outputs": [
    {
     "name": "stdout",
     "output_type": "stream",
     "text": [
      "The origin is inside 228 triangles.\n"
     ]
    }
   ],
   "source": [
    "counter = 0\n",
    "\n",
    "for triangle in triangles:\n",
    "    A, B, C = triangle\n",
    "    if is_origin_inside_triangle(A, B, C):\n",
    "        counter += 1\n",
    "\n",
    "print(f'The origin is inside {counter} triangles.')"
   ]
  }
 ],
 "metadata": {
  "kernelspec": {
   "display_name": "Python 3",
   "language": "python",
   "name": "python3"
  },
  "language_info": {
   "codemirror_mode": {
    "name": "ipython",
    "version": 3
   },
   "file_extension": ".py",
   "mimetype": "text/x-python",
   "name": "python",
   "nbconvert_exporter": "python",
   "pygments_lexer": "ipython3",
   "version": "3.13.1"
  }
 },
 "nbformat": 4,
 "nbformat_minor": 5
}
