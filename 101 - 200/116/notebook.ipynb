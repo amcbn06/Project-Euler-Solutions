{
 "cells": [
  {
   "cell_type": "markdown",
   "id": "0677bcaf",
   "metadata": {},
   "source": [
    "# Red, Green or Blue Tiles - Problem 116"
   ]
  },
  {
   "cell_type": "markdown",
   "id": "c1d26965",
   "metadata": {},
   "source": [
    "### Solution\n",
    "\n",
    "This is a easier variation of problem 114.\n",
    "\n",
    "Let:\n",
    "\n",
    "$ dp[m][n] = \\text{no. of ways to fill a block of length n with blocks of length m } $\n",
    "\n",
    "Base case:\n",
    "\n",
    "$ dp[m][0] = 1 $\n",
    "\n",
    "Therefore:\n",
    "\n",
    "$ dp[m][n] = dp[m][n - 1] + dp[m][n - m] $"
   ]
  },
  {
   "cell_type": "markdown",
   "id": "1e0cee89",
   "metadata": {},
   "source": [
    "### Solve"
   ]
  },
  {
   "cell_type": "code",
   "execution_count": 4,
   "id": "65748765",
   "metadata": {},
   "outputs": [
    {
     "name": "stdout",
     "output_type": "stream",
     "text": [
      "Red (length 2): 20365011073\n",
      "Green (length 3): 122106096\n",
      "Blue (length 4): 5453760\n",
      "20492570929\n"
     ]
    }
   ],
   "source": [
    "max_length = 4\n",
    "limit = 50\n",
    "\n",
    "dp = [[0 for _ in range(limit + 1)] for _ in range(max_length + 1)]\n",
    "\n",
    "for length in range(2, max_length + 1):\n",
    "    dp[length][0] = 1\n",
    "    for n in range(1, limit + 1):\n",
    "        dp[length][n] = dp[length][n - 1]\n",
    "        if n >= length:\n",
    "            dp[length][n] += dp[length][n - length]\n",
    "\n",
    "print('Red (length 2):', dp[2][limit] - 1)\n",
    "print('Green (length 3):', dp[3][limit] - 1)\n",
    "print('Blue (length 4):', dp[4][limit] - 1)\n",
    "print(dp[2][limit] + dp[3][limit] + dp[4][limit] - 3)"
   ]
  }
 ],
 "metadata": {
  "kernelspec": {
   "display_name": "Python 3",
   "language": "python",
   "name": "python3"
  },
  "language_info": {
   "codemirror_mode": {
    "name": "ipython",
    "version": 3
   },
   "file_extension": ".py",
   "mimetype": "text/x-python",
   "name": "python",
   "nbconvert_exporter": "python",
   "pygments_lexer": "ipython3",
   "version": "3.13.1"
  }
 },
 "nbformat": 4,
 "nbformat_minor": 5
}
