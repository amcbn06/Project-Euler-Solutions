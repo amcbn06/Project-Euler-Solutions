{
 "cells": [
  {
   "cell_type": "markdown",
   "id": "0677bcaf",
   "metadata": {},
   "source": [
    "# Counting Block Combinations II - Problem 115"
   ]
  },
  {
   "cell_type": "markdown",
   "id": "c1d26965",
   "metadata": {},
   "source": [
    "### Solution\n",
    "\n",
    "This is a variation of problem 114.\n",
    "\n",
    "Let:\n",
    "\n",
    "$ dp[n][0] = \\text{no. of ways to fill a block of length n with blocks of length at least m, last cell not filled} $\n",
    "\n",
    "$ dp[n][1] = \\text{no. of ways .... last cell filled} $\n",
    "\n",
    "Base case:\n",
    "\n",
    "$ dp[0][0] = 1 $\n",
    "\n",
    "Therefore:\n",
    "\n",
    "$ dp[n][0] = dp[n - 1][0] + dp[n - 1][1] $\n",
    "\n",
    "$ dp[n][1] =  \\sum_{\\text{len} \\geq 3}^{n} dp[n - \\text{len}][0] $"
   ]
  },
  {
   "cell_type": "markdown",
   "id": "1e0cee89",
   "metadata": {},
   "source": [
    "### Solve"
   ]
  },
  {
   "cell_type": "code",
   "execution_count": 13,
   "id": "65748765",
   "metadata": {},
   "outputs": [
    {
     "name": "stdout",
     "output_type": "stream",
     "text": [
      "168\n"
     ]
    }
   ],
   "source": [
    "limit = 500\n",
    "m = 50\n",
    "\n",
    "dp = [[0 for _ in range(2)] for _ in range(limit)]\n",
    "\n",
    "dp[0][0] = 1\n",
    "\n",
    "for i in range(1, limit):\n",
    "    dp[i][0] = dp[i - 1][0] + dp[i - 1][1]\n",
    "    for j in range(m, i + 1):\n",
    "        dp[i][1] += dp[i - j][0]\n",
    "    \n",
    "def F(n):\n",
    "    return dp[n][1] + dp[n][0]\n",
    "\n",
    "answer = 0\n",
    "while F(answer) <= 1000000:\n",
    "    answer += 1\n",
    "\n",
    "print(answer)"
   ]
  }
 ],
 "metadata": {
  "kernelspec": {
   "display_name": "Python 3",
   "language": "python",
   "name": "python3"
  },
  "language_info": {
   "codemirror_mode": {
    "name": "ipython",
    "version": 3
   },
   "file_extension": ".py",
   "mimetype": "text/x-python",
   "name": "python",
   "nbconvert_exporter": "python",
   "pygments_lexer": "ipython3",
   "version": "3.13.1"
  }
 },
 "nbformat": 4,
 "nbformat_minor": 5
}
